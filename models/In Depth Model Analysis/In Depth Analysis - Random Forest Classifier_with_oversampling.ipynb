{
 "cells": [
  {
   "cell_type": "code",
   "execution_count": 2,
   "metadata": {},
   "outputs": [],
   "source": [
    "import pandas as pd\n",
    "import numpy as np\n",
    "import matplotlib.pyplot as plt\n",
    "import warnings\n",
    "warnings.simplefilter(action='ignore', category=FutureWarning)\n",
    "warnings.simplefilter(\"ignore\", category=DeprecationWarning) \n",
    "warnings.simplefilter(\"ignore\", UserWarning)\n",
    "\n",
    "pd.set_option('display.max_rows', 500)\n",
    "pd.set_option('display.max_columns', 500)\n",
    "pd.set_option('display.width', 1000)\n",
    "\n",
    "njobs = -1"
   ]
  },
  {
   "cell_type": "code",
   "execution_count": 3,
   "metadata": {},
   "outputs": [],
   "source": [
    "train=pd.read_csv('train.csv',sep='|')"
   ]
  },
  {
   "cell_type": "code",
   "execution_count": 4,
   "metadata": {},
   "outputs": [
    {
     "name": "stdout",
     "output_type": "stream",
     "text": [
      "0    1775\n",
      "1     104\n",
      "Name: fraud, dtype: int64\n",
      "0    0.944651\n",
      "1    0.055349\n",
      "Name: fraud, dtype: float64\n"
     ]
    }
   ],
   "source": [
    "print(train.fraud.value_counts())\n",
    "print(train.fraud.value_counts() / len(train))"
   ]
  },
  {
   "cell_type": "markdown",
   "metadata": {},
   "source": [
    "# Feature Engineering"
   ]
  },
  {
   "cell_type": "code",
   "execution_count": 5,
   "metadata": {},
   "outputs": [],
   "source": [
    "train['scannedLineItems'] = train['scannedLineItemsPerSecond'] * train['totalScanTimeInSeconds']\n",
    "train['pricePerScannedLineItem'] = train['grandTotal'] / train['scannedLineItems']\n",
    "train['scansWithoutRegistrationPerScannedLineItem'] = train['scansWithoutRegistration'] / train['scannedLineItems']\n",
    "train['quantityModificationsPerScannedLineItem'] = train['quantityModifications'] / train['scannedLineItems']\n",
    "train['lineItemVoidsPerSecond'] = train['lineItemVoids'] / train['totalScanTimeInSeconds']\n",
    "train['scansWithoutRegistrationPerSecond'] = train['scansWithoutRegistration'] / train['totalScanTimeInSeconds']\n",
    "train['quantityModificationsPerSecond'] = train['quantityModifications'] / train['totalScanTimeInSeconds']\n",
    "train['secondsPerEuro'] = train['totalScanTimeInSeconds'] / train['grandTotal']\n",
    "train['lineItemVoidsPerEuro'] = train['lineItemVoids'] / train['grandTotal']\n",
    "train['scansWithoutRegistrationPerEuro'] = train['scansWithoutRegistration'] / train['grandTotal']\n",
    "train['quantityModificationsPerEuro'] = train['quantityModifications'] / train['grandTotal']"
   ]
  },
  {
   "cell_type": "code",
   "execution_count": 6,
   "metadata": {},
   "outputs": [],
   "source": [
    "from sklearn.model_selection import cross_val_score\n",
    "from sklearn.metrics import confusion_matrix\n",
    "from sklearn.metrics import make_scorer\n",
    "\n",
    "\n",
    "def my_custom_loss_func(y_true, y_pred):\n",
    "    cm = confusion_matrix(y_true,y_pred)\n",
    "    tn, fp, fn, tp = cm.ravel()\n",
    "    score = ((-25)*fp + (-5)*fn + 5*tp) / len(y_true)\n",
    "    return (score)\n",
    "\n",
    "my_custom_score = make_scorer(my_custom_loss_func, greater_is_better=True)\n",
    "\n",
    "from sklearn.model_selection import StratifiedKFold\n",
    "from sklearn.model_selection import LeaveOneOut\n",
    "\n",
    "skf = StratifiedKFold(n_splits=10)"
   ]
  },
  {
   "cell_type": "code",
   "execution_count": 8,
   "metadata": {},
   "outputs": [],
   "source": [
    "#Reduce data sample to test loop structure\n",
    "train = train.sample(frac=0.1, replace=True)"
   ]
  },
  {
   "cell_type": "markdown",
   "metadata": {},
   "source": [
    "# Model factory"
   ]
  },
  {
   "cell_type": "code",
   "execution_count": 9,
   "metadata": {},
   "outputs": [],
   "source": [
    "#!pip install imblearn --user"
   ]
  },
  {
   "cell_type": "code",
   "execution_count": 10,
   "metadata": {},
   "outputs": [
    {
     "name": "stderr",
     "output_type": "stream",
     "text": [
      "C:\\Users\\z004032b\\AppData\\Roaming\\Python\\Python37\\site-packages\\sklearn\\externals\\six.py:31: DeprecationWarning: The module is deprecated in version 0.21 and will be removed in version 0.23 since we've dropped support for Python 2.7. Please rely on the official version of six (https://pypi.org/project/six/).\n",
      "  \"(https://pypi.org/project/six/).\", DeprecationWarning)\n"
     ]
    }
   ],
   "source": [
    "import imblearn\n",
    "from imblearn.over_sampling import SMOTE\n",
    "from sklearn.ensemble import RandomForestClassifier\n",
    "\n",
    "from sklearn.model_selection import GridSearchCV\n",
    "from sklearn.model_selection import RandomizedSearchCV\n",
    "\n",
    "\n",
    "from imblearn.pipeline import Pipeline\n",
    "#Create multiple pipelines for different oversampling methods\n",
    "\n",
    "pipeline = Pipeline([\n",
    "        ('sampling', SMOTE()), #simple change oversampling method here and import it above, parameters could be tuned as well\n",
    "        ('classification', RandomForestClassifier())\n",
    "    ])\n",
    "\n",
    "pipeline = Pipeline([\n",
    "        ('sampling', SMOTE()), #simple change oversampling method here and import it above, parameters could be tuned as well\n",
    "        ('classification', RandomForestClassifier())\n",
    "    ])\n",
    "\n",
    "pipeline = Pipeline([\n",
    "        ('sampling', SMOTE()), #simple change oversampling method here and import it above, parameters could be tuned as well\n",
    "        ('classification', RandomForestClassifier())\n",
    "    ])\n",
    "\n",
    "for i in \n",
    "model_tuning_factory = [\n",
    "    GridSearchCV(pipeline,\n",
    "                 dict(classification__n_estimators = range(5,200,5),\n",
    "                      classification__criterion = ['entropy', 'gini']),\n",
    "                 cv = skf,\n",
    "                 scoring = my_custom_score,\n",
    "                 n_jobs = -1)\n",
    "]           \n",
    "                 \n",
    "                 \n",
    "iterations = 10                \n",
    "               \n",
    "model_tuning_factory_randomized = [\n",
    "    RandomizedSearchCV(RandomForestClassifier(),\n",
    "                 dict(n_estimators = range(5,200,5),\n",
    "                      criterion = ['entropy', 'gini']),\n",
    "                 cv = skf,\n",
    "                 scoring = my_custom_score,\n",
    "                      n_iter  = iterations)\n",
    "]\n",
    "\n",
    "model_super_factory = [\n",
    "    model_tuning_factory_1,\n",
    "    model_tuning_factory_2,\n",
    "    model_tuning_factory_3\n",
    "    \n",
    "]"
   ]
  },
  {
   "cell_type": "code",
   "execution_count": 11,
   "metadata": {},
   "outputs": [],
   "source": [
    "Y = train['fraud']\n",
    "X = train.drop('fraud',axis=1)"
   ]
  },
  {
   "cell_type": "code",
   "execution_count": 12,
   "metadata": {
    "scrolled": true
   },
   "outputs": [
    {
     "name": "stderr",
     "output_type": "stream",
     "text": [
      "C:\\Users\\z004032b\\AppData\\Roaming\\Python\\Python37\\site-packages\\sklearn\\model_selection\\_search.py:813: DeprecationWarning: The default of the `iid` parameter will change from True to False in version 0.22 and will be removed in 0.24. This will change numeric results when test-set sizes are unequal.\n",
      "  DeprecationWarning)\n"
     ]
    },
    {
     "name": "stdout",
     "output_type": "stream",
     "text": [
      "Finished Pipeline with No Scaling and 1 features after 44.42 seconds\n"
     ]
    },
    {
     "name": "stderr",
     "output_type": "stream",
     "text": [
      "C:\\Users\\z004032b\\AppData\\Roaming\\Python\\Python37\\site-packages\\sklearn\\model_selection\\_search.py:813: DeprecationWarning: The default of the `iid` parameter will change from True to False in version 0.22 and will be removed in 0.24. This will change numeric results when test-set sizes are unequal.\n",
      "  DeprecationWarning)\n"
     ]
    },
    {
     "name": "stdout",
     "output_type": "stream",
     "text": [
      "Finished Pipeline with No Scaling and 2 features after 33.8 seconds\n"
     ]
    },
    {
     "name": "stderr",
     "output_type": "stream",
     "text": [
      "C:\\Users\\z004032b\\AppData\\Roaming\\Python\\Python37\\site-packages\\sklearn\\model_selection\\_search.py:813: DeprecationWarning: The default of the `iid` parameter will change from True to False in version 0.22 and will be removed in 0.24. This will change numeric results when test-set sizes are unequal.\n",
      "  DeprecationWarning)\n"
     ]
    },
    {
     "name": "stdout",
     "output_type": "stream",
     "text": [
      "Finished Pipeline with No Scaling and 3 features after 36.86 seconds\n"
     ]
    },
    {
     "name": "stderr",
     "output_type": "stream",
     "text": [
      "C:\\Users\\z004032b\\AppData\\Roaming\\Python\\Python37\\site-packages\\sklearn\\model_selection\\_search.py:813: DeprecationWarning: The default of the `iid` parameter will change from True to False in version 0.22 and will be removed in 0.24. This will change numeric results when test-set sizes are unequal.\n",
      "  DeprecationWarning)\n"
     ]
    },
    {
     "name": "stdout",
     "output_type": "stream",
     "text": [
      "Finished Pipeline with No Scaling and 4 features after 42.3 seconds\n"
     ]
    },
    {
     "name": "stderr",
     "output_type": "stream",
     "text": [
      "C:\\Users\\z004032b\\AppData\\Roaming\\Python\\Python37\\site-packages\\sklearn\\model_selection\\_search.py:813: DeprecationWarning: The default of the `iid` parameter will change from True to False in version 0.22 and will be removed in 0.24. This will change numeric results when test-set sizes are unequal.\n",
      "  DeprecationWarning)\n"
     ]
    },
    {
     "name": "stdout",
     "output_type": "stream",
     "text": [
      "Finished Pipeline with No Scaling and 5 features after 47.86 seconds\n"
     ]
    },
    {
     "name": "stderr",
     "output_type": "stream",
     "text": [
      "C:\\Users\\z004032b\\AppData\\Roaming\\Python\\Python37\\site-packages\\sklearn\\model_selection\\_search.py:813: DeprecationWarning: The default of the `iid` parameter will change from True to False in version 0.22 and will be removed in 0.24. This will change numeric results when test-set sizes are unequal.\n",
      "  DeprecationWarning)\n"
     ]
    },
    {
     "name": "stdout",
     "output_type": "stream",
     "text": [
      "Finished Pipeline with No Scaling and 6 features after 36.82 seconds\n"
     ]
    },
    {
     "name": "stderr",
     "output_type": "stream",
     "text": [
      "C:\\Users\\z004032b\\AppData\\Roaming\\Python\\Python37\\site-packages\\sklearn\\model_selection\\_search.py:813: DeprecationWarning: The default of the `iid` parameter will change from True to False in version 0.22 and will be removed in 0.24. This will change numeric results when test-set sizes are unequal.\n",
      "  DeprecationWarning)\n"
     ]
    },
    {
     "name": "stdout",
     "output_type": "stream",
     "text": [
      "Finished Pipeline with No Scaling and 7 features after 38.41 seconds\n"
     ]
    },
    {
     "name": "stderr",
     "output_type": "stream",
     "text": [
      "C:\\Users\\z004032b\\AppData\\Roaming\\Python\\Python37\\site-packages\\sklearn\\model_selection\\_search.py:813: DeprecationWarning: The default of the `iid` parameter will change from True to False in version 0.22 and will be removed in 0.24. This will change numeric results when test-set sizes are unequal.\n",
      "  DeprecationWarning)\n"
     ]
    },
    {
     "name": "stdout",
     "output_type": "stream",
     "text": [
      "Finished Pipeline with No Scaling and 8 features after 44.18 seconds\n"
     ]
    },
    {
     "name": "stderr",
     "output_type": "stream",
     "text": [
      "C:\\Users\\z004032b\\AppData\\Roaming\\Python\\Python37\\site-packages\\sklearn\\model_selection\\_search.py:813: DeprecationWarning: The default of the `iid` parameter will change from True to False in version 0.22 and will be removed in 0.24. This will change numeric results when test-set sizes are unequal.\n",
      "  DeprecationWarning)\n"
     ]
    },
    {
     "name": "stdout",
     "output_type": "stream",
     "text": [
      "Finished Pipeline with No Scaling and 9 features after 43.26 seconds\n"
     ]
    },
    {
     "name": "stderr",
     "output_type": "stream",
     "text": [
      "C:\\Users\\z004032b\\AppData\\Roaming\\Python\\Python37\\site-packages\\sklearn\\model_selection\\_search.py:813: DeprecationWarning: The default of the `iid` parameter will change from True to False in version 0.22 and will be removed in 0.24. This will change numeric results when test-set sizes are unequal.\n",
      "  DeprecationWarning)\n"
     ]
    },
    {
     "name": "stdout",
     "output_type": "stream",
     "text": [
      "Finished Pipeline with No Scaling and 10 features after 41.62 seconds\n"
     ]
    },
    {
     "name": "stderr",
     "output_type": "stream",
     "text": [
      "C:\\Users\\z004032b\\AppData\\Roaming\\Python\\Python37\\site-packages\\sklearn\\model_selection\\_search.py:813: DeprecationWarning: The default of the `iid` parameter will change from True to False in version 0.22 and will be removed in 0.24. This will change numeric results when test-set sizes are unequal.\n",
      "  DeprecationWarning)\n"
     ]
    },
    {
     "name": "stdout",
     "output_type": "stream",
     "text": [
      "Finished Pipeline with No Scaling and 11 features after 40.64 seconds\n"
     ]
    },
    {
     "name": "stderr",
     "output_type": "stream",
     "text": [
      "C:\\Users\\z004032b\\AppData\\Roaming\\Python\\Python37\\site-packages\\sklearn\\model_selection\\_search.py:813: DeprecationWarning: The default of the `iid` parameter will change from True to False in version 0.22 and will be removed in 0.24. This will change numeric results when test-set sizes are unequal.\n",
      "  DeprecationWarning)\n"
     ]
    },
    {
     "name": "stdout",
     "output_type": "stream",
     "text": [
      "Finished Pipeline with No Scaling and 12 features after 42.6 seconds\n"
     ]
    },
    {
     "name": "stderr",
     "output_type": "stream",
     "text": [
      "C:\\Users\\z004032b\\AppData\\Roaming\\Python\\Python37\\site-packages\\sklearn\\model_selection\\_search.py:813: DeprecationWarning: The default of the `iid` parameter will change from True to False in version 0.22 and will be removed in 0.24. This will change numeric results when test-set sizes are unequal.\n",
      "  DeprecationWarning)\n"
     ]
    },
    {
     "name": "stdout",
     "output_type": "stream",
     "text": [
      "Finished Pipeline with No Scaling and 13 features after 41.26 seconds\n"
     ]
    },
    {
     "name": "stderr",
     "output_type": "stream",
     "text": [
      "C:\\Users\\z004032b\\AppData\\Roaming\\Python\\Python37\\site-packages\\sklearn\\model_selection\\_search.py:813: DeprecationWarning: The default of the `iid` parameter will change from True to False in version 0.22 and will be removed in 0.24. This will change numeric results when test-set sizes are unequal.\n",
      "  DeprecationWarning)\n"
     ]
    },
    {
     "name": "stdout",
     "output_type": "stream",
     "text": [
      "Finished Pipeline with No Scaling and 14 features after 39.25 seconds\n"
     ]
    },
    {
     "name": "stderr",
     "output_type": "stream",
     "text": [
      "C:\\Users\\z004032b\\AppData\\Roaming\\Python\\Python37\\site-packages\\sklearn\\model_selection\\_search.py:813: DeprecationWarning: The default of the `iid` parameter will change from True to False in version 0.22 and will be removed in 0.24. This will change numeric results when test-set sizes are unequal.\n",
      "  DeprecationWarning)\n"
     ]
    },
    {
     "name": "stdout",
     "output_type": "stream",
     "text": [
      "Finished Pipeline with No Scaling and 15 features after 41.93 seconds\n"
     ]
    },
    {
     "name": "stderr",
     "output_type": "stream",
     "text": [
      "C:\\Users\\z004032b\\AppData\\Roaming\\Python\\Python37\\site-packages\\sklearn\\model_selection\\_search.py:813: DeprecationWarning: The default of the `iid` parameter will change from True to False in version 0.22 and will be removed in 0.24. This will change numeric results when test-set sizes are unequal.\n",
      "  DeprecationWarning)\n"
     ]
    },
    {
     "name": "stdout",
     "output_type": "stream",
     "text": [
      "Finished Pipeline with No Scaling and 16 features after 42.59 seconds\n"
     ]
    },
    {
     "name": "stderr",
     "output_type": "stream",
     "text": [
      "C:\\Users\\z004032b\\AppData\\Roaming\\Python\\Python37\\site-packages\\sklearn\\model_selection\\_search.py:813: DeprecationWarning: The default of the `iid` parameter will change from True to False in version 0.22 and will be removed in 0.24. This will change numeric results when test-set sizes are unequal.\n",
      "  DeprecationWarning)\n"
     ]
    },
    {
     "name": "stdout",
     "output_type": "stream",
     "text": [
      "Finished Pipeline with No Scaling and 17 features after 44.51 seconds\n"
     ]
    },
    {
     "name": "stderr",
     "output_type": "stream",
     "text": [
      "C:\\Users\\z004032b\\AppData\\Roaming\\Python\\Python37\\site-packages\\sklearn\\model_selection\\_search.py:813: DeprecationWarning: The default of the `iid` parameter will change from True to False in version 0.22 and will be removed in 0.24. This will change numeric results when test-set sizes are unequal.\n",
      "  DeprecationWarning)\n"
     ]
    },
    {
     "name": "stdout",
     "output_type": "stream",
     "text": [
      "Finished Pipeline with No Scaling and 18 features after 57.52 seconds\n"
     ]
    },
    {
     "name": "stderr",
     "output_type": "stream",
     "text": [
      "C:\\Users\\z004032b\\AppData\\Roaming\\Python\\Python37\\site-packages\\sklearn\\model_selection\\_search.py:813: DeprecationWarning: The default of the `iid` parameter will change from True to False in version 0.22 and will be removed in 0.24. This will change numeric results when test-set sizes are unequal.\n",
      "  DeprecationWarning)\n"
     ]
    },
    {
     "name": "stdout",
     "output_type": "stream",
     "text": [
      "Finished Pipeline with No Scaling and 19 features after 49.47 seconds\n"
     ]
    },
    {
     "name": "stderr",
     "output_type": "stream",
     "text": [
      "C:\\Users\\z004032b\\AppData\\Roaming\\Python\\Python37\\site-packages\\sklearn\\model_selection\\_search.py:813: DeprecationWarning: The default of the `iid` parameter will change from True to False in version 0.22 and will be removed in 0.24. This will change numeric results when test-set sizes are unequal.\n",
      "  DeprecationWarning)\n"
     ]
    },
    {
     "name": "stdout",
     "output_type": "stream",
     "text": [
      "Finished Pipeline with No Scaling and 20 features after 46.05 seconds\n"
     ]
    },
    {
     "data": {
      "text/html": [
       "<div>\n",
       "<style scoped>\n",
       "    .dataframe tbody tr th:only-of-type {\n",
       "        vertical-align: middle;\n",
       "    }\n",
       "\n",
       "    .dataframe tbody tr th {\n",
       "        vertical-align: top;\n",
       "    }\n",
       "\n",
       "    .dataframe thead th {\n",
       "        text-align: right;\n",
       "    }\n",
       "</style>\n",
       "<table border=\"1\" class=\"dataframe\">\n",
       "  <thead>\n",
       "    <tr style=\"text-align: right;\">\n",
       "      <th></th>\n",
       "      <th>Model</th>\n",
       "      <th>Data Preparation</th>\n",
       "      <th>Feature Count</th>\n",
       "      <th>Features</th>\n",
       "      <th>Optimal Parameters</th>\n",
       "      <th>Monetary Value Per Instance - Mean</th>\n",
       "      <th>Monetary Value Per Instance - Standard Deviation</th>\n",
       "      <th>Raw Model</th>\n",
       "      <th>Feature Selection Technique</th>\n",
       "    </tr>\n",
       "  </thead>\n",
       "  <tbody>\n",
       "    <tr>\n",
       "      <th>10</th>\n",
       "      <td>Pipeline</td>\n",
       "      <td>No Scaling</td>\n",
       "      <td>11</td>\n",
       "      <td>[trustLevel, totalScanTimeInSeconds, grandTota...</td>\n",
       "      <td>{'classification__criterion': 'entropy', 'clas...</td>\n",
       "      <td>0.186170</td>\n",
       "      <td>0.171747</td>\n",
       "      <td>(SMOTE(k_neighbors=5, kind='deprecated', m_nei...</td>\n",
       "      <td>SelectKBest</td>\n",
       "    </tr>\n",
       "    <tr>\n",
       "      <th>15</th>\n",
       "      <td>Pipeline</td>\n",
       "      <td>No Scaling</td>\n",
       "      <td>16</td>\n",
       "      <td>[trustLevel, totalScanTimeInSeconds, grandTota...</td>\n",
       "      <td>{'classification__criterion': 'entropy', 'clas...</td>\n",
       "      <td>0.186170</td>\n",
       "      <td>0.171747</td>\n",
       "      <td>(SMOTE(k_neighbors=5, kind='deprecated', m_nei...</td>\n",
       "      <td>SelectKBest</td>\n",
       "    </tr>\n",
       "    <tr>\n",
       "      <th>2</th>\n",
       "      <td>Pipeline</td>\n",
       "      <td>No Scaling</td>\n",
       "      <td>3</td>\n",
       "      <td>[trustLevel, scansWithoutRegistration, scanned...</td>\n",
       "      <td>{'classification__criterion': 'entropy', 'clas...</td>\n",
       "      <td>0.186170</td>\n",
       "      <td>0.171747</td>\n",
       "      <td>(SMOTE(k_neighbors=5, kind='deprecated', m_nei...</td>\n",
       "      <td>SelectKBest</td>\n",
       "    </tr>\n",
       "    <tr>\n",
       "      <th>3</th>\n",
       "      <td>Pipeline</td>\n",
       "      <td>No Scaling</td>\n",
       "      <td>4</td>\n",
       "      <td>[trustLevel, scansWithoutRegistration, scanned...</td>\n",
       "      <td>{'classification__criterion': 'entropy', 'clas...</td>\n",
       "      <td>0.186170</td>\n",
       "      <td>0.171747</td>\n",
       "      <td>(SMOTE(k_neighbors=5, kind='deprecated', m_nei...</td>\n",
       "      <td>SelectKBest</td>\n",
       "    </tr>\n",
       "    <tr>\n",
       "      <th>4</th>\n",
       "      <td>Pipeline</td>\n",
       "      <td>No Scaling</td>\n",
       "      <td>5</td>\n",
       "      <td>[trustLevel, scansWithoutRegistration, scanned...</td>\n",
       "      <td>{'classification__criterion': 'entropy', 'clas...</td>\n",
       "      <td>0.186170</td>\n",
       "      <td>0.171747</td>\n",
       "      <td>(SMOTE(k_neighbors=5, kind='deprecated', m_nei...</td>\n",
       "      <td>SelectKBest</td>\n",
       "    </tr>\n",
       "    <tr>\n",
       "      <th>5</th>\n",
       "      <td>Pipeline</td>\n",
       "      <td>No Scaling</td>\n",
       "      <td>6</td>\n",
       "      <td>[trustLevel, scansWithoutRegistration, lineIte...</td>\n",
       "      <td>{'classification__criterion': 'entropy', 'clas...</td>\n",
       "      <td>0.186170</td>\n",
       "      <td>0.171747</td>\n",
       "      <td>(SMOTE(k_neighbors=5, kind='deprecated', m_nei...</td>\n",
       "      <td>SelectKBest</td>\n",
       "    </tr>\n",
       "    <tr>\n",
       "      <th>6</th>\n",
       "      <td>Pipeline</td>\n",
       "      <td>No Scaling</td>\n",
       "      <td>7</td>\n",
       "      <td>[trustLevel, scansWithoutRegistration, lineIte...</td>\n",
       "      <td>{'classification__criterion': 'entropy', 'clas...</td>\n",
       "      <td>0.186170</td>\n",
       "      <td>0.171747</td>\n",
       "      <td>(SMOTE(k_neighbors=5, kind='deprecated', m_nei...</td>\n",
       "      <td>SelectKBest</td>\n",
       "    </tr>\n",
       "    <tr>\n",
       "      <th>7</th>\n",
       "      <td>Pipeline</td>\n",
       "      <td>No Scaling</td>\n",
       "      <td>8</td>\n",
       "      <td>[trustLevel, grandTotal, scansWithoutRegistrat...</td>\n",
       "      <td>{'classification__criterion': 'entropy', 'clas...</td>\n",
       "      <td>0.186170</td>\n",
       "      <td>0.171747</td>\n",
       "      <td>(SMOTE(k_neighbors=5, kind='deprecated', m_nei...</td>\n",
       "      <td>SelectKBest</td>\n",
       "    </tr>\n",
       "    <tr>\n",
       "      <th>8</th>\n",
       "      <td>Pipeline</td>\n",
       "      <td>No Scaling</td>\n",
       "      <td>9</td>\n",
       "      <td>[trustLevel, totalScanTimeInSeconds, grandTota...</td>\n",
       "      <td>{'classification__criterion': 'entropy', 'clas...</td>\n",
       "      <td>0.186170</td>\n",
       "      <td>0.171747</td>\n",
       "      <td>(SMOTE(k_neighbors=5, kind='deprecated', m_nei...</td>\n",
       "      <td>SelectKBest</td>\n",
       "    </tr>\n",
       "    <tr>\n",
       "      <th>9</th>\n",
       "      <td>Pipeline</td>\n",
       "      <td>No Scaling</td>\n",
       "      <td>10</td>\n",
       "      <td>[trustLevel, totalScanTimeInSeconds, grandTota...</td>\n",
       "      <td>{'classification__criterion': 'entropy', 'clas...</td>\n",
       "      <td>0.186170</td>\n",
       "      <td>0.171747</td>\n",
       "      <td>(SMOTE(k_neighbors=5, kind='deprecated', m_nei...</td>\n",
       "      <td>SelectKBest</td>\n",
       "    </tr>\n",
       "    <tr>\n",
       "      <th>11</th>\n",
       "      <td>Pipeline</td>\n",
       "      <td>No Scaling</td>\n",
       "      <td>12</td>\n",
       "      <td>[trustLevel, totalScanTimeInSeconds, grandTota...</td>\n",
       "      <td>{'classification__criterion': 'entropy', 'clas...</td>\n",
       "      <td>0.186170</td>\n",
       "      <td>0.171747</td>\n",
       "      <td>(SMOTE(k_neighbors=5, kind='deprecated', m_nei...</td>\n",
       "      <td>SelectKBest</td>\n",
       "    </tr>\n",
       "    <tr>\n",
       "      <th>17</th>\n",
       "      <td>Pipeline</td>\n",
       "      <td>No Scaling</td>\n",
       "      <td>18</td>\n",
       "      <td>[trustLevel, totalScanTimeInSeconds, grandTota...</td>\n",
       "      <td>{'classification__criterion': 'gini', 'classif...</td>\n",
       "      <td>0.186170</td>\n",
       "      <td>0.171747</td>\n",
       "      <td>(SMOTE(k_neighbors=5, kind='deprecated', m_nei...</td>\n",
       "      <td>SelectKBest</td>\n",
       "    </tr>\n",
       "    <tr>\n",
       "      <th>16</th>\n",
       "      <td>Pipeline</td>\n",
       "      <td>No Scaling</td>\n",
       "      <td>17</td>\n",
       "      <td>[trustLevel, totalScanTimeInSeconds, grandTota...</td>\n",
       "      <td>{'classification__criterion': 'entropy', 'clas...</td>\n",
       "      <td>0.186170</td>\n",
       "      <td>0.171747</td>\n",
       "      <td>(SMOTE(k_neighbors=5, kind='deprecated', m_nei...</td>\n",
       "      <td>SelectKBest</td>\n",
       "    </tr>\n",
       "    <tr>\n",
       "      <th>14</th>\n",
       "      <td>Pipeline</td>\n",
       "      <td>No Scaling</td>\n",
       "      <td>15</td>\n",
       "      <td>[trustLevel, totalScanTimeInSeconds, grandTota...</td>\n",
       "      <td>{'classification__criterion': 'gini', 'classif...</td>\n",
       "      <td>0.186170</td>\n",
       "      <td>0.171747</td>\n",
       "      <td>(SMOTE(k_neighbors=5, kind='deprecated', m_nei...</td>\n",
       "      <td>SelectKBest</td>\n",
       "    </tr>\n",
       "    <tr>\n",
       "      <th>18</th>\n",
       "      <td>Pipeline</td>\n",
       "      <td>No Scaling</td>\n",
       "      <td>19</td>\n",
       "      <td>[trustLevel, totalScanTimeInSeconds, grandTota...</td>\n",
       "      <td>{'classification__criterion': 'entropy', 'clas...</td>\n",
       "      <td>0.132979</td>\n",
       "      <td>0.215576</td>\n",
       "      <td>(SMOTE(k_neighbors=5, kind='deprecated', m_nei...</td>\n",
       "      <td>SelectKBest</td>\n",
       "    </tr>\n",
       "    <tr>\n",
       "      <th>19</th>\n",
       "      <td>Pipeline</td>\n",
       "      <td>No Scaling</td>\n",
       "      <td>20</td>\n",
       "      <td>[trustLevel, totalScanTimeInSeconds, grandTota...</td>\n",
       "      <td>{'classification__criterion': 'entropy', 'clas...</td>\n",
       "      <td>0.132979</td>\n",
       "      <td>0.215576</td>\n",
       "      <td>(SMOTE(k_neighbors=5, kind='deprecated', m_nei...</td>\n",
       "      <td>SelectKBest</td>\n",
       "    </tr>\n",
       "    <tr>\n",
       "      <th>13</th>\n",
       "      <td>Pipeline</td>\n",
       "      <td>No Scaling</td>\n",
       "      <td>14</td>\n",
       "      <td>[trustLevel, totalScanTimeInSeconds, grandTota...</td>\n",
       "      <td>{'classification__criterion': 'entropy', 'clas...</td>\n",
       "      <td>0.132979</td>\n",
       "      <td>0.215576</td>\n",
       "      <td>(SMOTE(k_neighbors=5, kind='deprecated', m_nei...</td>\n",
       "      <td>SelectKBest</td>\n",
       "    </tr>\n",
       "    <tr>\n",
       "      <th>12</th>\n",
       "      <td>Pipeline</td>\n",
       "      <td>No Scaling</td>\n",
       "      <td>13</td>\n",
       "      <td>[trustLevel, totalScanTimeInSeconds, grandTota...</td>\n",
       "      <td>{'classification__criterion': 'entropy', 'clas...</td>\n",
       "      <td>0.132979</td>\n",
       "      <td>0.215576</td>\n",
       "      <td>(SMOTE(k_neighbors=5, kind='deprecated', m_nei...</td>\n",
       "      <td>SelectKBest</td>\n",
       "    </tr>\n",
       "    <tr>\n",
       "      <th>1</th>\n",
       "      <td>Pipeline</td>\n",
       "      <td>No Scaling</td>\n",
       "      <td>2</td>\n",
       "      <td>[trustLevel, scannedLineItems]</td>\n",
       "      <td>{'classification__criterion': 'entropy', 'clas...</td>\n",
       "      <td>0.053191</td>\n",
       "      <td>0.407812</td>\n",
       "      <td>(SMOTE(k_neighbors=5, kind='deprecated', m_nei...</td>\n",
       "      <td>SelectKBest</td>\n",
       "    </tr>\n",
       "    <tr>\n",
       "      <th>0</th>\n",
       "      <td>Pipeline</td>\n",
       "      <td>No Scaling</td>\n",
       "      <td>1</td>\n",
       "      <td>[scannedLineItems]</td>\n",
       "      <td>{'classification__criterion': 'gini', 'classif...</td>\n",
       "      <td>-1.861702</td>\n",
       "      <td>1.636612</td>\n",
       "      <td>(SMOTE(k_neighbors=5, kind='deprecated', m_nei...</td>\n",
       "      <td>SelectKBest</td>\n",
       "    </tr>\n",
       "  </tbody>\n",
       "</table>\n",
       "</div>"
      ],
      "text/plain": [
       "       Model Data Preparation Feature Count                                           Features                                 Optimal Parameters  Monetary Value Per Instance - Mean  Monetary Value Per Instance - Standard Deviation                                          Raw Model Feature Selection Technique\n",
       "10  Pipeline       No Scaling            11  [trustLevel, totalScanTimeInSeconds, grandTota...  {'classification__criterion': 'entropy', 'clas...                            0.186170                                          0.171747  (SMOTE(k_neighbors=5, kind='deprecated', m_nei...                 SelectKBest\n",
       "15  Pipeline       No Scaling            16  [trustLevel, totalScanTimeInSeconds, grandTota...  {'classification__criterion': 'entropy', 'clas...                            0.186170                                          0.171747  (SMOTE(k_neighbors=5, kind='deprecated', m_nei...                 SelectKBest\n",
       "2   Pipeline       No Scaling             3  [trustLevel, scansWithoutRegistration, scanned...  {'classification__criterion': 'entropy', 'clas...                            0.186170                                          0.171747  (SMOTE(k_neighbors=5, kind='deprecated', m_nei...                 SelectKBest\n",
       "3   Pipeline       No Scaling             4  [trustLevel, scansWithoutRegistration, scanned...  {'classification__criterion': 'entropy', 'clas...                            0.186170                                          0.171747  (SMOTE(k_neighbors=5, kind='deprecated', m_nei...                 SelectKBest\n",
       "4   Pipeline       No Scaling             5  [trustLevel, scansWithoutRegistration, scanned...  {'classification__criterion': 'entropy', 'clas...                            0.186170                                          0.171747  (SMOTE(k_neighbors=5, kind='deprecated', m_nei...                 SelectKBest\n",
       "5   Pipeline       No Scaling             6  [trustLevel, scansWithoutRegistration, lineIte...  {'classification__criterion': 'entropy', 'clas...                            0.186170                                          0.171747  (SMOTE(k_neighbors=5, kind='deprecated', m_nei...                 SelectKBest\n",
       "6   Pipeline       No Scaling             7  [trustLevel, scansWithoutRegistration, lineIte...  {'classification__criterion': 'entropy', 'clas...                            0.186170                                          0.171747  (SMOTE(k_neighbors=5, kind='deprecated', m_nei...                 SelectKBest\n",
       "7   Pipeline       No Scaling             8  [trustLevel, grandTotal, scansWithoutRegistrat...  {'classification__criterion': 'entropy', 'clas...                            0.186170                                          0.171747  (SMOTE(k_neighbors=5, kind='deprecated', m_nei...                 SelectKBest\n",
       "8   Pipeline       No Scaling             9  [trustLevel, totalScanTimeInSeconds, grandTota...  {'classification__criterion': 'entropy', 'clas...                            0.186170                                          0.171747  (SMOTE(k_neighbors=5, kind='deprecated', m_nei...                 SelectKBest\n",
       "9   Pipeline       No Scaling            10  [trustLevel, totalScanTimeInSeconds, grandTota...  {'classification__criterion': 'entropy', 'clas...                            0.186170                                          0.171747  (SMOTE(k_neighbors=5, kind='deprecated', m_nei...                 SelectKBest\n",
       "11  Pipeline       No Scaling            12  [trustLevel, totalScanTimeInSeconds, grandTota...  {'classification__criterion': 'entropy', 'clas...                            0.186170                                          0.171747  (SMOTE(k_neighbors=5, kind='deprecated', m_nei...                 SelectKBest\n",
       "17  Pipeline       No Scaling            18  [trustLevel, totalScanTimeInSeconds, grandTota...  {'classification__criterion': 'gini', 'classif...                            0.186170                                          0.171747  (SMOTE(k_neighbors=5, kind='deprecated', m_nei...                 SelectKBest\n",
       "16  Pipeline       No Scaling            17  [trustLevel, totalScanTimeInSeconds, grandTota...  {'classification__criterion': 'entropy', 'clas...                            0.186170                                          0.171747  (SMOTE(k_neighbors=5, kind='deprecated', m_nei...                 SelectKBest\n",
       "14  Pipeline       No Scaling            15  [trustLevel, totalScanTimeInSeconds, grandTota...  {'classification__criterion': 'gini', 'classif...                            0.186170                                          0.171747  (SMOTE(k_neighbors=5, kind='deprecated', m_nei...                 SelectKBest\n",
       "18  Pipeline       No Scaling            19  [trustLevel, totalScanTimeInSeconds, grandTota...  {'classification__criterion': 'entropy', 'clas...                            0.132979                                          0.215576  (SMOTE(k_neighbors=5, kind='deprecated', m_nei...                 SelectKBest\n",
       "19  Pipeline       No Scaling            20  [trustLevel, totalScanTimeInSeconds, grandTota...  {'classification__criterion': 'entropy', 'clas...                            0.132979                                          0.215576  (SMOTE(k_neighbors=5, kind='deprecated', m_nei...                 SelectKBest\n",
       "13  Pipeline       No Scaling            14  [trustLevel, totalScanTimeInSeconds, grandTota...  {'classification__criterion': 'entropy', 'clas...                            0.132979                                          0.215576  (SMOTE(k_neighbors=5, kind='deprecated', m_nei...                 SelectKBest\n",
       "12  Pipeline       No Scaling            13  [trustLevel, totalScanTimeInSeconds, grandTota...  {'classification__criterion': 'entropy', 'clas...                            0.132979                                          0.215576  (SMOTE(k_neighbors=5, kind='deprecated', m_nei...                 SelectKBest\n",
       "1   Pipeline       No Scaling             2                     [trustLevel, scannedLineItems]  {'classification__criterion': 'entropy', 'clas...                            0.053191                                          0.407812  (SMOTE(k_neighbors=5, kind='deprecated', m_nei...                 SelectKBest\n",
       "0   Pipeline       No Scaling             1                                 [scannedLineItems]  {'classification__criterion': 'gini', 'classif...                           -1.861702                                          1.636612  (SMOTE(k_neighbors=5, kind='deprecated', m_nei...                 SelectKBest"
      ]
     },
     "execution_count": 12,
     "metadata": {},
     "output_type": "execute_result"
    }
   ],
   "source": [
    "import time\n",
    "from sklearn.feature_selection import SelectKBest\n",
    "from sklearn.feature_selection import chi2\n",
    "from sklearn.feature_selection import f_classif\n",
    "\n",
    "from sklearn.feature_selection import RFECV\n",
    "from sklearn.feature_selection import RFE\n",
    "\n",
    "from sklearn.preprocessing import MinMaxScaler \n",
    "from sklearn.preprocessing import StandardScaler\n",
    "from sklearn.preprocessing import FunctionTransformer\n",
    "\n",
    "result_table = pd.DataFrame(columns=[\"Model\", \"Data Preparation\", \"Feature Count\", \"Features\", \"Optimal Parameters\", \"Monetary Value Per Instance - Mean\", \"Monetary Value Per Instance - Standard Deviation\", \"Raw Model\"])\n",
    "\n",
    "for oversampling_strategy in range(1,2):  # Oversamling strategies currtently not in the loop\n",
    "    if (oversampling_strategy == 1):  \n",
    "        Y = train['fraud']\n",
    "        X = train.drop('fraud',axis=1)\n",
    "        oversampling = \"No Oversampling\"\n",
    "    elif (oversampling_strategy == 2):\n",
    "        extended_train = randomOverSampling(train)\n",
    "        Y = extended_train['fraud']\n",
    "        X = extended_train.drop('fraud',axis=1)\n",
    "        oversampling = \"Random Oversampling\"\n",
    "    elif (oversampling_strategy == 3):\n",
    "        extended_train = smoteOverSamling(train)\n",
    "        Y = extended_train['fraud']\n",
    "        X = extended_train.drop('fraud',axis=1)\n",
    "        oversampling = \"SMOTE\"\n",
    "    elif (oversampling_strategy == 3):\n",
    "        extended_train = adasynOverSamling(train)\n",
    "        Y = extended_train['fraud']\n",
    "        X = extended_train.drop('fraud',axis=1)\n",
    "        oversampling = \"Adaysin\"\n",
    "\n",
    "    # Scaling is not relevant for Decision Trees\n",
    "    for data_preparation_strategy in range(1,2):\n",
    "        if (data_preparation_strategy == 1):  \n",
    "            X_scaled = X\n",
    "            data_preparation = \"No Scaling\"\n",
    "        elif (data_preparation_strategy == 2):\n",
    "            feature_scaler = MinMaxScaler()  \n",
    "            X_scaled = pd.DataFrame(feature_scaler.fit_transform(X.values), columns=X.columns, index=X.index) \n",
    "            data_preparation = \"MinMaxScaler\"\n",
    "        elif (data_preparation_strategy == 3):\n",
    "            feature_scaler = StandardScaler()  \n",
    "            X_scaled = pd.DataFrame(feature_scaler.fit_transform(X.values), columns=X.columns, index=X.index)\n",
    "            data_preparation = \"StandardScaler\"\n",
    "        elif (data_preparation_strategy == 4):\n",
    "            transformer = FunctionTransformer(np.log1p, validate=True)  \n",
    "            X_scaled = pd.DataFrame(transformer.transform(X), columns=X.columns, index=X.index)\n",
    "            data_preparation = \"LogScaler\"    \n",
    "\n",
    "        for model in model_tuning_factory:   # replace with model_tuning_factory_randomized for faster results\n",
    "\n",
    "\n",
    "            for feature_count in range(1,len(list(X))+1):\n",
    "\n",
    "                model.seed = 42\n",
    "                start_time = time.time()              \n",
    "\n",
    "\n",
    "                # Solution with SelectKBest\n",
    "                best_features = SelectKBest(f_classif, k=feature_count).fit(X_scaled,Y)\n",
    "                best_feature_list = X.columns[best_features.get_support()]\n",
    "                X_selected_features = X[best_feature_list]\n",
    "\n",
    "                model.fit(X_selected_features,Y)  \n",
    "                model_name = model.best_estimator_.__class__.__name__\n",
    "                score_mean = model.cv_results_['mean_test_score'][model.best_index_]\n",
    "                score_std = model.cv_results_['std_test_score'][model.best_index_]\n",
    "\n",
    "                result_table = result_table.append({\n",
    "                 \"Model\": model_name, \n",
    "                 \"Data Preparation\": data_preparation,   \n",
    "                 \"Feature Count\": feature_count,\n",
    "                 \"Feature Selection Technique\": \"SelectKBest\",   \n",
    "                 \"Features\": best_feature_list.values, \n",
    "                 \"Optimal Parameters\": model.best_params_,\n",
    "                 \"Monetary Value Per Instance - Mean\":  score_mean,\n",
    "                 \"Monetary Value Per Instance - Standard Deviation\": score_std,   \n",
    "                 \"Raw Model\": model.best_estimator_\n",
    "                  }, ignore_index=True)\n",
    "\n",
    "\n",
    "                # Solution with Recursive Feature Elimination -> only works for some models\n",
    "\n",
    "                if (model.estimator.__class__.__name__ == 'LogisticRegression'\n",
    "                 or model.estimator.__class__.__name__ == 'DecisionTreeClassifier'\n",
    "                 or model.estimator.__class__.__name__ == 'ExtraTreeClassifier'\n",
    "                 or model.estimator.__class__.__name__ == 'ExtraTreesClassifier'\n",
    "                 or model.estimator.__class__.__name__ == 'RandomForestClassifier'\n",
    "                 or model.estimator.__class__.__name__ == 'BernoulliNB'\n",
    "                 or model.estimator.__class__.__name__ == 'AdaBoostClassifier'\n",
    "                 or model.estimator.__class__.__name__ == 'GradientBoostingClassifier'\n",
    "                 or model.estimator.__class__.__name__ == 'Perceptron'\n",
    "                 or model.estimator.__class__.__name__ == 'LinearDiscriminantAnalysis'):\n",
    "\n",
    "                   # Traditional RFE\n",
    "                    rfe = RFE(model.estimator, n_features_to_select = feature_count)\n",
    "                    rfe = rfe.fit(X,Y)\n",
    "                    best_feature_list = np.array(list(X))[np.array(rfe.support_)]\n",
    "                    X_selected_features = X[best_feature_list]\n",
    "\n",
    "                    model.fit(X_selected_features,Y)  \n",
    "                    model_name = model.best_estimator_.__class__.__name__\n",
    "                    score_mean = model.cv_results_['mean_test_score'][model.best_index_]\n",
    "                    score_std = model.cv_results_['std_test_score'][model.best_index_]\n",
    "\n",
    "\n",
    "                    result_table = result_table.append({\n",
    "                     \"Model\": model_name, \n",
    "                     \"Data Preparation\": data_preparation,\n",
    "                     \"Feature Count\": feature_count,\n",
    "                     \"Feature Selection Technique\": \"RFE\",\n",
    "                     \"Features\": best_feature_list,\n",
    "                     \"Optimal Parameters\": model.best_params_,\n",
    "                     \"Monetary Value Per Instance - Mean\":  score_mean,\n",
    "                     \"Monetary Value Per Instance - Standard Deviation\": score_std,  \n",
    "                     \"Raw Model\": model.best_estimator_\n",
    "                      }, ignore_index=True)\n",
    "\n",
    "                end_time = time.time()\n",
    "\n",
    "                print(\"Finished \" + model.best_estimator_.__class__.__name__ + \" with \" + data_preparation + \" and \" + str(feature_count) + \" features after \" + str(round(end_time - start_time, 2)) + \" seconds\")\n",
    "\n",
    "\n",
    "\n",
    "            if (model.estimator.__class__.__name__ == 'LogisticRegression'\n",
    "             or model.estimator.__class__.__name__ == 'DecisionTreeClassifier'\n",
    "             or model.estimator.__class__.__name__ == 'ExtraTreeClassifier'\n",
    "             or model.estimator.__class__.__name__ == 'ExtraTreesClassifier'\n",
    "             or model.estimator.__class__.__name__ == 'RandomForestClassifier'\n",
    "             or model.estimator.__class__.__name__ == 'BernoulliNB'\n",
    "             or model.estimator.__class__.__name__ == 'AdaBoostClassifier'\n",
    "             or model.estimator.__class__.__name__ == 'GradientBoostingClassifier'\n",
    "             or model.estimator.__class__.__name__ == 'Perceptron'\n",
    "             or model.estimator.__class__.__name__ == 'LinearDiscriminantAnalysis'):\n",
    "\n",
    "                # RFE with Cross Validation -> determines the optimum feature count automatically\n",
    "                rfecv = RFECV(model.estimator, cv = skf, scoring = my_custom_score)\n",
    "                rfecv = rfe.fit(X,Y)\n",
    "                best_feature_list = np.array(list(X))[np.array(rfecv.support_)]\n",
    "                X_selected_features = X[best_feature_list]\n",
    "\n",
    "                model.fit(X_selected_features,Y)  \n",
    "                model_name = model.best_estimator_.__class__.__name__\n",
    "                score_mean = model.cv_results_['mean_test_score'][model.best_index_]\n",
    "                score_std = model.cv_results_['std_test_score'][model.best_index_]\n",
    "\n",
    "\n",
    "                result_table = result_table.append({\n",
    "                 \"Model\": model_name,  \n",
    "                 \"Data Preparation\": data_preparation,\n",
    "                 \"Feature Count\": len(best_feature_list),\n",
    "                 \"Feature Selection Technique\": \"RFECV\",\n",
    "                 \"Features\": best_feature_list,\n",
    "                 \"Optimal Parameters\": model.best_params_,\n",
    "                 \"Monetary Value Per Instance - Mean\":  score_mean,\n",
    "                 \"Monetary Value Per Instance - Standard Deviation\": score_std,    \n",
    "                 \"Raw Model\": model.best_estimator_\n",
    "                  }, ignore_index=True)\n",
    "\n",
    "result_table.sort_values(by = \"Monetary Value Per Instance - Mean\", ascending = False)"
   ]
  },
  {
   "cell_type": "code",
   "execution_count": 13,
   "metadata": {},
   "outputs": [
    {
     "data": {
      "text/html": [
       "<div>\n",
       "<style scoped>\n",
       "    .dataframe tbody tr th:only-of-type {\n",
       "        vertical-align: middle;\n",
       "    }\n",
       "\n",
       "    .dataframe tbody tr th {\n",
       "        vertical-align: top;\n",
       "    }\n",
       "\n",
       "    .dataframe thead th {\n",
       "        text-align: right;\n",
       "    }\n",
       "</style>\n",
       "<table border=\"1\" class=\"dataframe\">\n",
       "  <thead>\n",
       "    <tr style=\"text-align: right;\">\n",
       "      <th></th>\n",
       "      <th>Model</th>\n",
       "      <th>Data Preparation</th>\n",
       "      <th>Feature Count</th>\n",
       "      <th>Features</th>\n",
       "      <th>Optimal Parameters</th>\n",
       "      <th>Monetary Value Per Instance - Mean</th>\n",
       "      <th>Monetary Value Per Instance - Standard Deviation</th>\n",
       "      <th>Raw Model</th>\n",
       "      <th>Feature Selection Technique</th>\n",
       "    </tr>\n",
       "  </thead>\n",
       "  <tbody>\n",
       "    <tr>\n",
       "      <th>10</th>\n",
       "      <td>Pipeline</td>\n",
       "      <td>No Scaling</td>\n",
       "      <td>11</td>\n",
       "      <td>[trustLevel, totalScanTimeInSeconds, grandTota...</td>\n",
       "      <td>{'classification__criterion': 'entropy', 'clas...</td>\n",
       "      <td>0.186170</td>\n",
       "      <td>0.171747</td>\n",
       "      <td>(SMOTE(k_neighbors=5, kind='deprecated', m_nei...</td>\n",
       "      <td>SelectKBest</td>\n",
       "    </tr>\n",
       "    <tr>\n",
       "      <th>15</th>\n",
       "      <td>Pipeline</td>\n",
       "      <td>No Scaling</td>\n",
       "      <td>16</td>\n",
       "      <td>[trustLevel, totalScanTimeInSeconds, grandTota...</td>\n",
       "      <td>{'classification__criterion': 'entropy', 'clas...</td>\n",
       "      <td>0.186170</td>\n",
       "      <td>0.171747</td>\n",
       "      <td>(SMOTE(k_neighbors=5, kind='deprecated', m_nei...</td>\n",
       "      <td>SelectKBest</td>\n",
       "    </tr>\n",
       "    <tr>\n",
       "      <th>2</th>\n",
       "      <td>Pipeline</td>\n",
       "      <td>No Scaling</td>\n",
       "      <td>3</td>\n",
       "      <td>[trustLevel, scansWithoutRegistration, scanned...</td>\n",
       "      <td>{'classification__criterion': 'entropy', 'clas...</td>\n",
       "      <td>0.186170</td>\n",
       "      <td>0.171747</td>\n",
       "      <td>(SMOTE(k_neighbors=5, kind='deprecated', m_nei...</td>\n",
       "      <td>SelectKBest</td>\n",
       "    </tr>\n",
       "    <tr>\n",
       "      <th>3</th>\n",
       "      <td>Pipeline</td>\n",
       "      <td>No Scaling</td>\n",
       "      <td>4</td>\n",
       "      <td>[trustLevel, scansWithoutRegistration, scanned...</td>\n",
       "      <td>{'classification__criterion': 'entropy', 'clas...</td>\n",
       "      <td>0.186170</td>\n",
       "      <td>0.171747</td>\n",
       "      <td>(SMOTE(k_neighbors=5, kind='deprecated', m_nei...</td>\n",
       "      <td>SelectKBest</td>\n",
       "    </tr>\n",
       "    <tr>\n",
       "      <th>4</th>\n",
       "      <td>Pipeline</td>\n",
       "      <td>No Scaling</td>\n",
       "      <td>5</td>\n",
       "      <td>[trustLevel, scansWithoutRegistration, scanned...</td>\n",
       "      <td>{'classification__criterion': 'entropy', 'clas...</td>\n",
       "      <td>0.186170</td>\n",
       "      <td>0.171747</td>\n",
       "      <td>(SMOTE(k_neighbors=5, kind='deprecated', m_nei...</td>\n",
       "      <td>SelectKBest</td>\n",
       "    </tr>\n",
       "    <tr>\n",
       "      <th>5</th>\n",
       "      <td>Pipeline</td>\n",
       "      <td>No Scaling</td>\n",
       "      <td>6</td>\n",
       "      <td>[trustLevel, scansWithoutRegistration, lineIte...</td>\n",
       "      <td>{'classification__criterion': 'entropy', 'clas...</td>\n",
       "      <td>0.186170</td>\n",
       "      <td>0.171747</td>\n",
       "      <td>(SMOTE(k_neighbors=5, kind='deprecated', m_nei...</td>\n",
       "      <td>SelectKBest</td>\n",
       "    </tr>\n",
       "    <tr>\n",
       "      <th>6</th>\n",
       "      <td>Pipeline</td>\n",
       "      <td>No Scaling</td>\n",
       "      <td>7</td>\n",
       "      <td>[trustLevel, scansWithoutRegistration, lineIte...</td>\n",
       "      <td>{'classification__criterion': 'entropy', 'clas...</td>\n",
       "      <td>0.186170</td>\n",
       "      <td>0.171747</td>\n",
       "      <td>(SMOTE(k_neighbors=5, kind='deprecated', m_nei...</td>\n",
       "      <td>SelectKBest</td>\n",
       "    </tr>\n",
       "    <tr>\n",
       "      <th>7</th>\n",
       "      <td>Pipeline</td>\n",
       "      <td>No Scaling</td>\n",
       "      <td>8</td>\n",
       "      <td>[trustLevel, grandTotal, scansWithoutRegistrat...</td>\n",
       "      <td>{'classification__criterion': 'entropy', 'clas...</td>\n",
       "      <td>0.186170</td>\n",
       "      <td>0.171747</td>\n",
       "      <td>(SMOTE(k_neighbors=5, kind='deprecated', m_nei...</td>\n",
       "      <td>SelectKBest</td>\n",
       "    </tr>\n",
       "    <tr>\n",
       "      <th>8</th>\n",
       "      <td>Pipeline</td>\n",
       "      <td>No Scaling</td>\n",
       "      <td>9</td>\n",
       "      <td>[trustLevel, totalScanTimeInSeconds, grandTota...</td>\n",
       "      <td>{'classification__criterion': 'entropy', 'clas...</td>\n",
       "      <td>0.186170</td>\n",
       "      <td>0.171747</td>\n",
       "      <td>(SMOTE(k_neighbors=5, kind='deprecated', m_nei...</td>\n",
       "      <td>SelectKBest</td>\n",
       "    </tr>\n",
       "    <tr>\n",
       "      <th>9</th>\n",
       "      <td>Pipeline</td>\n",
       "      <td>No Scaling</td>\n",
       "      <td>10</td>\n",
       "      <td>[trustLevel, totalScanTimeInSeconds, grandTota...</td>\n",
       "      <td>{'classification__criterion': 'entropy', 'clas...</td>\n",
       "      <td>0.186170</td>\n",
       "      <td>0.171747</td>\n",
       "      <td>(SMOTE(k_neighbors=5, kind='deprecated', m_nei...</td>\n",
       "      <td>SelectKBest</td>\n",
       "    </tr>\n",
       "    <tr>\n",
       "      <th>11</th>\n",
       "      <td>Pipeline</td>\n",
       "      <td>No Scaling</td>\n",
       "      <td>12</td>\n",
       "      <td>[trustLevel, totalScanTimeInSeconds, grandTota...</td>\n",
       "      <td>{'classification__criterion': 'entropy', 'clas...</td>\n",
       "      <td>0.186170</td>\n",
       "      <td>0.171747</td>\n",
       "      <td>(SMOTE(k_neighbors=5, kind='deprecated', m_nei...</td>\n",
       "      <td>SelectKBest</td>\n",
       "    </tr>\n",
       "    <tr>\n",
       "      <th>17</th>\n",
       "      <td>Pipeline</td>\n",
       "      <td>No Scaling</td>\n",
       "      <td>18</td>\n",
       "      <td>[trustLevel, totalScanTimeInSeconds, grandTota...</td>\n",
       "      <td>{'classification__criterion': 'gini', 'classif...</td>\n",
       "      <td>0.186170</td>\n",
       "      <td>0.171747</td>\n",
       "      <td>(SMOTE(k_neighbors=5, kind='deprecated', m_nei...</td>\n",
       "      <td>SelectKBest</td>\n",
       "    </tr>\n",
       "    <tr>\n",
       "      <th>16</th>\n",
       "      <td>Pipeline</td>\n",
       "      <td>No Scaling</td>\n",
       "      <td>17</td>\n",
       "      <td>[trustLevel, totalScanTimeInSeconds, grandTota...</td>\n",
       "      <td>{'classification__criterion': 'entropy', 'clas...</td>\n",
       "      <td>0.186170</td>\n",
       "      <td>0.171747</td>\n",
       "      <td>(SMOTE(k_neighbors=5, kind='deprecated', m_nei...</td>\n",
       "      <td>SelectKBest</td>\n",
       "    </tr>\n",
       "    <tr>\n",
       "      <th>14</th>\n",
       "      <td>Pipeline</td>\n",
       "      <td>No Scaling</td>\n",
       "      <td>15</td>\n",
       "      <td>[trustLevel, totalScanTimeInSeconds, grandTota...</td>\n",
       "      <td>{'classification__criterion': 'gini', 'classif...</td>\n",
       "      <td>0.186170</td>\n",
       "      <td>0.171747</td>\n",
       "      <td>(SMOTE(k_neighbors=5, kind='deprecated', m_nei...</td>\n",
       "      <td>SelectKBest</td>\n",
       "    </tr>\n",
       "    <tr>\n",
       "      <th>18</th>\n",
       "      <td>Pipeline</td>\n",
       "      <td>No Scaling</td>\n",
       "      <td>19</td>\n",
       "      <td>[trustLevel, totalScanTimeInSeconds, grandTota...</td>\n",
       "      <td>{'classification__criterion': 'entropy', 'clas...</td>\n",
       "      <td>0.132979</td>\n",
       "      <td>0.215576</td>\n",
       "      <td>(SMOTE(k_neighbors=5, kind='deprecated', m_nei...</td>\n",
       "      <td>SelectKBest</td>\n",
       "    </tr>\n",
       "    <tr>\n",
       "      <th>19</th>\n",
       "      <td>Pipeline</td>\n",
       "      <td>No Scaling</td>\n",
       "      <td>20</td>\n",
       "      <td>[trustLevel, totalScanTimeInSeconds, grandTota...</td>\n",
       "      <td>{'classification__criterion': 'entropy', 'clas...</td>\n",
       "      <td>0.132979</td>\n",
       "      <td>0.215576</td>\n",
       "      <td>(SMOTE(k_neighbors=5, kind='deprecated', m_nei...</td>\n",
       "      <td>SelectKBest</td>\n",
       "    </tr>\n",
       "    <tr>\n",
       "      <th>13</th>\n",
       "      <td>Pipeline</td>\n",
       "      <td>No Scaling</td>\n",
       "      <td>14</td>\n",
       "      <td>[trustLevel, totalScanTimeInSeconds, grandTota...</td>\n",
       "      <td>{'classification__criterion': 'entropy', 'clas...</td>\n",
       "      <td>0.132979</td>\n",
       "      <td>0.215576</td>\n",
       "      <td>(SMOTE(k_neighbors=5, kind='deprecated', m_nei...</td>\n",
       "      <td>SelectKBest</td>\n",
       "    </tr>\n",
       "    <tr>\n",
       "      <th>12</th>\n",
       "      <td>Pipeline</td>\n",
       "      <td>No Scaling</td>\n",
       "      <td>13</td>\n",
       "      <td>[trustLevel, totalScanTimeInSeconds, grandTota...</td>\n",
       "      <td>{'classification__criterion': 'entropy', 'clas...</td>\n",
       "      <td>0.132979</td>\n",
       "      <td>0.215576</td>\n",
       "      <td>(SMOTE(k_neighbors=5, kind='deprecated', m_nei...</td>\n",
       "      <td>SelectKBest</td>\n",
       "    </tr>\n",
       "    <tr>\n",
       "      <th>1</th>\n",
       "      <td>Pipeline</td>\n",
       "      <td>No Scaling</td>\n",
       "      <td>2</td>\n",
       "      <td>[trustLevel, scannedLineItems]</td>\n",
       "      <td>{'classification__criterion': 'entropy', 'clas...</td>\n",
       "      <td>0.053191</td>\n",
       "      <td>0.407812</td>\n",
       "      <td>(SMOTE(k_neighbors=5, kind='deprecated', m_nei...</td>\n",
       "      <td>SelectKBest</td>\n",
       "    </tr>\n",
       "    <tr>\n",
       "      <th>0</th>\n",
       "      <td>Pipeline</td>\n",
       "      <td>No Scaling</td>\n",
       "      <td>1</td>\n",
       "      <td>[scannedLineItems]</td>\n",
       "      <td>{'classification__criterion': 'gini', 'classif...</td>\n",
       "      <td>-1.861702</td>\n",
       "      <td>1.636612</td>\n",
       "      <td>(SMOTE(k_neighbors=5, kind='deprecated', m_nei...</td>\n",
       "      <td>SelectKBest</td>\n",
       "    </tr>\n",
       "  </tbody>\n",
       "</table>\n",
       "</div>"
      ],
      "text/plain": [
       "       Model Data Preparation Feature Count                                           Features                                 Optimal Parameters  Monetary Value Per Instance - Mean  Monetary Value Per Instance - Standard Deviation                                          Raw Model Feature Selection Technique\n",
       "10  Pipeline       No Scaling            11  [trustLevel, totalScanTimeInSeconds, grandTota...  {'classification__criterion': 'entropy', 'clas...                            0.186170                                          0.171747  (SMOTE(k_neighbors=5, kind='deprecated', m_nei...                 SelectKBest\n",
       "15  Pipeline       No Scaling            16  [trustLevel, totalScanTimeInSeconds, grandTota...  {'classification__criterion': 'entropy', 'clas...                            0.186170                                          0.171747  (SMOTE(k_neighbors=5, kind='deprecated', m_nei...                 SelectKBest\n",
       "2   Pipeline       No Scaling             3  [trustLevel, scansWithoutRegistration, scanned...  {'classification__criterion': 'entropy', 'clas...                            0.186170                                          0.171747  (SMOTE(k_neighbors=5, kind='deprecated', m_nei...                 SelectKBest\n",
       "3   Pipeline       No Scaling             4  [trustLevel, scansWithoutRegistration, scanned...  {'classification__criterion': 'entropy', 'clas...                            0.186170                                          0.171747  (SMOTE(k_neighbors=5, kind='deprecated', m_nei...                 SelectKBest\n",
       "4   Pipeline       No Scaling             5  [trustLevel, scansWithoutRegistration, scanned...  {'classification__criterion': 'entropy', 'clas...                            0.186170                                          0.171747  (SMOTE(k_neighbors=5, kind='deprecated', m_nei...                 SelectKBest\n",
       "5   Pipeline       No Scaling             6  [trustLevel, scansWithoutRegistration, lineIte...  {'classification__criterion': 'entropy', 'clas...                            0.186170                                          0.171747  (SMOTE(k_neighbors=5, kind='deprecated', m_nei...                 SelectKBest\n",
       "6   Pipeline       No Scaling             7  [trustLevel, scansWithoutRegistration, lineIte...  {'classification__criterion': 'entropy', 'clas...                            0.186170                                          0.171747  (SMOTE(k_neighbors=5, kind='deprecated', m_nei...                 SelectKBest\n",
       "7   Pipeline       No Scaling             8  [trustLevel, grandTotal, scansWithoutRegistrat...  {'classification__criterion': 'entropy', 'clas...                            0.186170                                          0.171747  (SMOTE(k_neighbors=5, kind='deprecated', m_nei...                 SelectKBest\n",
       "8   Pipeline       No Scaling             9  [trustLevel, totalScanTimeInSeconds, grandTota...  {'classification__criterion': 'entropy', 'clas...                            0.186170                                          0.171747  (SMOTE(k_neighbors=5, kind='deprecated', m_nei...                 SelectKBest\n",
       "9   Pipeline       No Scaling            10  [trustLevel, totalScanTimeInSeconds, grandTota...  {'classification__criterion': 'entropy', 'clas...                            0.186170                                          0.171747  (SMOTE(k_neighbors=5, kind='deprecated', m_nei...                 SelectKBest\n",
       "11  Pipeline       No Scaling            12  [trustLevel, totalScanTimeInSeconds, grandTota...  {'classification__criterion': 'entropy', 'clas...                            0.186170                                          0.171747  (SMOTE(k_neighbors=5, kind='deprecated', m_nei...                 SelectKBest\n",
       "17  Pipeline       No Scaling            18  [trustLevel, totalScanTimeInSeconds, grandTota...  {'classification__criterion': 'gini', 'classif...                            0.186170                                          0.171747  (SMOTE(k_neighbors=5, kind='deprecated', m_nei...                 SelectKBest\n",
       "16  Pipeline       No Scaling            17  [trustLevel, totalScanTimeInSeconds, grandTota...  {'classification__criterion': 'entropy', 'clas...                            0.186170                                          0.171747  (SMOTE(k_neighbors=5, kind='deprecated', m_nei...                 SelectKBest\n",
       "14  Pipeline       No Scaling            15  [trustLevel, totalScanTimeInSeconds, grandTota...  {'classification__criterion': 'gini', 'classif...                            0.186170                                          0.171747  (SMOTE(k_neighbors=5, kind='deprecated', m_nei...                 SelectKBest\n",
       "18  Pipeline       No Scaling            19  [trustLevel, totalScanTimeInSeconds, grandTota...  {'classification__criterion': 'entropy', 'clas...                            0.132979                                          0.215576  (SMOTE(k_neighbors=5, kind='deprecated', m_nei...                 SelectKBest\n",
       "19  Pipeline       No Scaling            20  [trustLevel, totalScanTimeInSeconds, grandTota...  {'classification__criterion': 'entropy', 'clas...                            0.132979                                          0.215576  (SMOTE(k_neighbors=5, kind='deprecated', m_nei...                 SelectKBest\n",
       "13  Pipeline       No Scaling            14  [trustLevel, totalScanTimeInSeconds, grandTota...  {'classification__criterion': 'entropy', 'clas...                            0.132979                                          0.215576  (SMOTE(k_neighbors=5, kind='deprecated', m_nei...                 SelectKBest\n",
       "12  Pipeline       No Scaling            13  [trustLevel, totalScanTimeInSeconds, grandTota...  {'classification__criterion': 'entropy', 'clas...                            0.132979                                          0.215576  (SMOTE(k_neighbors=5, kind='deprecated', m_nei...                 SelectKBest\n",
       "1   Pipeline       No Scaling             2                     [trustLevel, scannedLineItems]  {'classification__criterion': 'entropy', 'clas...                            0.053191                                          0.407812  (SMOTE(k_neighbors=5, kind='deprecated', m_nei...                 SelectKBest\n",
       "0   Pipeline       No Scaling             1                                 [scannedLineItems]  {'classification__criterion': 'gini', 'classif...                           -1.861702                                          1.636612  (SMOTE(k_neighbors=5, kind='deprecated', m_nei...                 SelectKBest"
      ]
     },
     "execution_count": 13,
     "metadata": {},
     "output_type": "execute_result"
    }
   ],
   "source": [
    "result_table.sort_values(by = \"Monetary Value Per Instance - Mean\", ascending = False)"
   ]
  },
  {
   "cell_type": "code",
   "execution_count": 14,
   "metadata": {},
   "outputs": [
    {
     "data": {
      "text/plain": [
       "dict_keys(['memory', 'steps', 'verbose', 'sampling', 'classification', 'sampling__k_neighbors', 'sampling__kind', 'sampling__m_neighbors', 'sampling__n_jobs', 'sampling__out_step', 'sampling__random_state', 'sampling__ratio', 'sampling__sampling_strategy', 'sampling__svm_estimator', 'classification__bootstrap', 'classification__class_weight', 'classification__criterion', 'classification__max_depth', 'classification__max_features', 'classification__max_leaf_nodes', 'classification__min_impurity_decrease', 'classification__min_impurity_split', 'classification__min_samples_leaf', 'classification__min_samples_split', 'classification__min_weight_fraction_leaf', 'classification__n_estimators', 'classification__n_jobs', 'classification__oob_score', 'classification__random_state', 'classification__verbose', 'classification__warm_start'])"
      ]
     },
     "execution_count": 14,
     "metadata": {},
     "output_type": "execute_result"
    }
   ],
   "source": [
    "pipeline.get_params().keys()"
   ]
  },
  {
   "cell_type": "code",
   "execution_count": 15,
   "metadata": {},
   "outputs": [],
   "source": [
    "result_table.to_pickle(\"result_table_Random_Forest.pkl\")\n",
    "#result_table = pd.read_pickle(\"result_table_Random_Forest.pkl\")"
   ]
  },
  {
   "cell_type": "code",
   "execution_count": 16,
   "metadata": {
    "scrolled": false
   },
   "outputs": [
    {
     "data": {
      "text/plain": [
       "Text(0,0.5,'Monetary Value Per Instance - Mean')"
      ]
     },
     "execution_count": 16,
     "metadata": {},
     "output_type": "execute_result"
    },
    {
     "data": {
      "image/png": "[encoded data removed]",
      "text/plain": [
       "<Figure size 720x720 with 1 Axes>"
      ]
     },
     "metadata": {
      "needs_background": "light"
     },
     "output_type": "display_data"
    }
   ],
   "source": [
    "plt.rcParams['figure.figsize'] = (10,10)\n",
    "\n",
    "plt.scatter(result_table[\"Feature Count\"], result_table[\"Monetary Value Per Instance - Mean\"])\n",
    "plt.xlabel('Number of features', fontsize=16)\n",
    "plt.ylabel('Monetary Value Per Instance - Mean', fontsize=16)"
   ]
  },
  {
   "cell_type": "code",
   "execution_count": 17,
   "metadata": {},
   "outputs": [
    {
     "name": "stdout",
     "output_type": "stream",
     "text": [
      "Pipeline(memory=None,\n",
      "         steps=[('sampling',\n",
      "                 SMOTE(k_neighbors=5, kind='deprecated',\n",
      "                       m_neighbors='deprecated', n_jobs=1,\n",
      "                       out_step='deprecated', random_state=None, ratio=None,\n",
      "                       sampling_strategy='auto', svm_estimator='deprecated')),\n",
      "                ('classification',\n",
      "                 RandomForestClassifier(bootstrap=True, class_weight=None,\n",
      "                                        criterion='entropy', max_depth=None,\n",
      "                                        max_features='auto',\n",
      "                                        max_leaf_nodes=None,\n",
      "                                        min_impurity_decrease=0.0,\n",
      "                                        min_impurity_split=None,\n",
      "                                        min_samples_leaf=1, min_samples_split=2,\n",
      "                                        min_weight_fraction_leaf=0.0,\n",
      "                                        n_estimators=5, n_jobs=None,\n",
      "                                        oob_score=False, random_state=None,\n",
      "                                        verbose=0, warm_start=False))],\n",
      "         verbose=False)\n",
      "['trustLevel' 'scansWithoutRegistration' 'scannedLineItems']\n",
      "{'classification__criterion': 'entropy', 'classification__n_estimators': 5}\n"
     ]
    }
   ],
   "source": [
    "best_model = result_table.loc[result_table[\"Monetary Value Per Instance - Mean\"].argmax()][\"Raw Model\"]\n",
    "best_model_features = result_table.loc[result_table[\"Monetary Value Per Instance - Mean\"].argmax()][\"Features\"]\n",
    "best_parameters = result_table.loc[result_table[\"Monetary Value Per Instance - Mean\"].argmax()][\"Optimal Parameters\"]\n",
    "\n",
    "print(best_model)\n",
    "print(best_model_features)\n",
    "print(best_parameters)"
   ]
  },
  {
   "cell_type": "code",
   "execution_count": 18,
   "metadata": {},
   "outputs": [
    {
     "name": "stdout",
     "output_type": "stream",
     "text": [
      "True negative:  177\n",
      "False positive:  0\n",
      "False negative:  1\n",
      "True positive:  10\n",
      "45 for 188 instances in the test set\n",
      "0.2393617021276596 per instance in the test set\n"
     ]
    }
   ],
   "source": [
    "from sklearn.metrics import confusion_matrix\n",
    "\n",
    "def get_monetary_value(cm):\n",
    "        tn, fp, fn, tp = cm.ravel()\n",
    "        print(\"True negative: \", tn)\n",
    "        print(\"False positive: \", fp)\n",
    "        print(\"False negative: \", fn)\n",
    "        print(\"True positive: \", tp)\n",
    "        score = (-25)*fp + (-5)*fn + 5*tp\n",
    "        print(str(score) + \" for \" + str(sum(sum(cm))) + \" instances in the test set\")\n",
    "        print(str(score/sum(sum(cm))) + \" per instance in the test set\")\n",
    "        return score\n",
    "    \n",
    "cm = confusion_matrix(Y , best_model.predict(X[best_model_features]))\n",
    "\n",
    "monetary_value = get_monetary_value(cm)"
   ]
  },
  {
   "cell_type": "code",
   "execution_count": null,
   "metadata": {},
   "outputs": [],
   "source": []
  }
 ],
 "metadata": {
  "kernelspec": {
   "display_name": "Python 3",
   "language": "python",
   "name": "python3"
  },
  "language_info": {
   "codemirror_mode": {
    "name": "ipython",
    "version": 3
   },
   "file_extension": ".py",
   "mimetype": "text/x-python",
   "name": "python",
   "nbconvert_exporter": "python",
   "pygments_lexer": "ipython3",
   "version": "3.7.0"
  }
 },
 "nbformat": 4,
 "nbformat_minor": 2
}
