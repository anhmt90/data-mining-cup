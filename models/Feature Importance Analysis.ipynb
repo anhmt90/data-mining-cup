{
 "cells": [
  {
   "cell_type": "code",
   "execution_count": 144,
   "metadata": {},
   "outputs": [],
   "source": [
    "import numpy as np\n",
    "import pandas as pd\n",
    "import matplotlib.pyplot as plt\n",
    "np.set_printoptions(suppress=True)"
   ]
  },
  {
   "cell_type": "code",
   "execution_count": 145,
   "metadata": {},
   "outputs": [],
   "source": [
    "import warnings\n",
    "\n",
    "warnings.simplefilter(action='ignore', category=FutureWarning)\n",
    "warnings.simplefilter(\"ignore\", category=DeprecationWarning) \n",
    "warnings.simplefilter(\"ignore\", UserWarning)"
   ]
  },
  {
   "cell_type": "code",
   "execution_count": 146,
   "metadata": {},
   "outputs": [],
   "source": [
    "data = pd.read_csv(\"train.csv\", sep=\"|\")"
   ]
  },
  {
   "cell_type": "code",
   "execution_count": 147,
   "metadata": {},
   "outputs": [],
   "source": [
    "data['totalScanTimeInMinutes'] = data['totalScanTimeInSeconds'] / 60.0\n",
    "data['scannedLineItems'] = data['scannedLineItemsPerSecond'] * data['totalScanTimeInSeconds']\n",
    "data['pricePerScannedLineItem'] = data['grandTotal'] / data['scannedLineItems']\n",
    "data['scansWithoutRegistrationPerScannedLineItem'] = data['scansWithoutRegistration'] / data['scannedLineItems']\n",
    "data['quantityModificationsPerScannedLineItem'] = data['quantityModifications'] / data['scannedLineItems']\n",
    "data['lineItemVoidsPerSecond'] = data['lineItemVoids'] / data['totalScanTimeInSeconds']\n",
    "data['scansWithoutRegistrationPerSecond'] = data['scansWithoutRegistration'] / data['totalScanTimeInSeconds']\n",
    "data['quantityModificationsPerSecond'] = data['quantityModifications'] / data['totalScanTimeInSeconds']\n",
    "data['secondsPerEuro'] = data['totalScanTimeInSeconds'] / data['grandTotal']\n",
    "data['lineItemVoidsPerEuro'] = data['lineItemVoids'] / data['grandTotal']\n",
    "data['scansWithoutRegistrationPerEuro'] = data['scansWithoutRegistration'] / data['grandTotal']\n",
    "data['quantityModificationsPerEuro'] = data['quantityModifications'] / data['grandTotal']"
   ]
  },
  {
   "cell_type": "markdown",
   "metadata": {},
   "source": [
    "# PCA Analysis"
   ]
  },
  {
   "cell_type": "code",
   "execution_count": 148,
   "metadata": {},
   "outputs": [
    {
     "name": "stdout",
     "output_type": "stream",
     "text": [
      "Principal Components:\n",
      "[[ 0.00001698  0.0049428  -0.00056844  0.00002907  0.00001725 -0.00002021\n",
      "  -0.00000058 -0.00000253  0.000002    0.00008238 -0.00003167 -0.00007928\n",
      "   0.00000057 -0.00000319 -0.00000021 -0.0000002  -0.00000012  0.99995003\n",
      "   0.00678576  0.0053964   0.00006977]\n",
      " [-0.00007792 -0.99984834 -0.00005382 -0.00011805 -0.00005007  0.00003224\n",
      "   0.00013816  0.0004883   0.00002957 -0.01666414 -0.00016748  0.00043093\n",
      "   0.00004846  0.00003547  0.0000553   0.00004999  0.00002562  0.00493638\n",
      "   0.00070076  0.00046868  0.00011373]\n",
      " [ 0.00290566  0.00002185  0.98648227  0.00075986 -0.00307059 -0.0005656\n",
      "  -0.00015973  0.00322995  0.00162239  0.00000036 -0.01467797  0.16291\n",
      "   0.00213059  0.00090875 -0.00002001 -0.00012738  0.00000699  0.00058634\n",
      "  -0.00182294 -0.00006399 -0.00753071]]\n",
      "Explained Variance:\n",
      "[0.97722355 0.0226862  0.00006889]\n"
     ]
    }
   ],
   "source": [
    "from sklearn.decomposition import PCA\n",
    "\n",
    "y = data['fraud']\n",
    "x = data.drop('fraud',axis=1)\n",
    "# feature extraction\n",
    "pca = PCA(n_components=3)\n",
    "\n",
    "fit = pca.fit(x)\n",
    "\n",
    "print(\"Principal Components:\")   \n",
    "print(fit.components_)\n",
    "\n",
    "print(\"Explained Variance:\") \n",
    "print(fit.explained_variance_ratio_)"
   ]
  },
  {
   "cell_type": "markdown",
   "metadata": {},
   "source": [
    "-> Consider PCA Regression!"
   ]
  },
  {
   "cell_type": "markdown",
   "metadata": {},
   "source": [
    "# Extra Trees Classifier"
   ]
  },
  {
   "cell_type": "code",
   "execution_count": 149,
   "metadata": {},
   "outputs": [
    {
     "data": {
      "text/html": [
       "<div>\n",
       "<style scoped>\n",
       "    .dataframe tbody tr th:only-of-type {\n",
       "        vertical-align: middle;\n",
       "    }\n",
       "\n",
       "    .dataframe tbody tr th {\n",
       "        vertical-align: top;\n",
       "    }\n",
       "\n",
       "    .dataframe thead th {\n",
       "        text-align: right;\n",
       "    }\n",
       "</style>\n",
       "<table border=\"1\" class=\"dataframe\">\n",
       "  <thead>\n",
       "    <tr style=\"text-align: right;\">\n",
       "      <th></th>\n",
       "      <th>Importance</th>\n",
       "    </tr>\n",
       "  </thead>\n",
       "  <tbody>\n",
       "    <tr>\n",
       "      <th>trustLevel</th>\n",
       "      <td>0.314698</td>\n",
       "    </tr>\n",
       "    <tr>\n",
       "      <th>scannedLineItems</th>\n",
       "      <td>0.204901</td>\n",
       "    </tr>\n",
       "    <tr>\n",
       "      <th>scannedLineItemsPerSecond</th>\n",
       "      <td>0.052379</td>\n",
       "    </tr>\n",
       "    <tr>\n",
       "      <th>totalScanTimeInSeconds</th>\n",
       "      <td>0.044810</td>\n",
       "    </tr>\n",
       "    <tr>\n",
       "      <th>scansWithoutRegistrationPerScannedLineItem</th>\n",
       "      <td>0.038406</td>\n",
       "    </tr>\n",
       "    <tr>\n",
       "      <th>totalScanTimeInMinutes</th>\n",
       "      <td>0.036784</td>\n",
       "    </tr>\n",
       "    <tr>\n",
       "      <th>quantityModificationsPerScannedLineItem</th>\n",
       "      <td>0.030213</td>\n",
       "    </tr>\n",
       "    <tr>\n",
       "      <th>scansWithoutRegistration</th>\n",
       "      <td>0.029208</td>\n",
       "    </tr>\n",
       "    <tr>\n",
       "      <th>lineItemVoids</th>\n",
       "      <td>0.027214</td>\n",
       "    </tr>\n",
       "    <tr>\n",
       "      <th>pricePerScannedLineItem</th>\n",
       "      <td>0.025388</td>\n",
       "    </tr>\n",
       "    <tr>\n",
       "      <th>lineItemVoidsPerSecond</th>\n",
       "      <td>0.021419</td>\n",
       "    </tr>\n",
       "    <tr>\n",
       "      <th>valuePerSecond</th>\n",
       "      <td>0.021160</td>\n",
       "    </tr>\n",
       "    <tr>\n",
       "      <th>scansWithoutRegistrationPerEuro</th>\n",
       "      <td>0.021148</td>\n",
       "    </tr>\n",
       "    <tr>\n",
       "      <th>scansWithoutRegistrationPerSecond</th>\n",
       "      <td>0.021070</td>\n",
       "    </tr>\n",
       "    <tr>\n",
       "      <th>lineItemVoidsPerPosition</th>\n",
       "      <td>0.018168</td>\n",
       "    </tr>\n",
       "    <tr>\n",
       "      <th>lineItemVoidsPerEuro</th>\n",
       "      <td>0.017354</td>\n",
       "    </tr>\n",
       "    <tr>\n",
       "      <th>quantityModificationsPerEuro</th>\n",
       "      <td>0.015977</td>\n",
       "    </tr>\n",
       "    <tr>\n",
       "      <th>grandTotal</th>\n",
       "      <td>0.015799</td>\n",
       "    </tr>\n",
       "    <tr>\n",
       "      <th>quantityModificationsPerSecond</th>\n",
       "      <td>0.015763</td>\n",
       "    </tr>\n",
       "    <tr>\n",
       "      <th>quantityModifications</th>\n",
       "      <td>0.014125</td>\n",
       "    </tr>\n",
       "    <tr>\n",
       "      <th>secondsPerEuro</th>\n",
       "      <td>0.014016</td>\n",
       "    </tr>\n",
       "  </tbody>\n",
       "</table>\n",
       "</div>"
      ],
      "text/plain": [
       "                                            Importance\n",
       "trustLevel                                    0.314698\n",
       "scannedLineItems                              0.204901\n",
       "scannedLineItemsPerSecond                     0.052379\n",
       "totalScanTimeInSeconds                        0.044810\n",
       "scansWithoutRegistrationPerScannedLineItem    0.038406\n",
       "totalScanTimeInMinutes                        0.036784\n",
       "quantityModificationsPerScannedLineItem       0.030213\n",
       "scansWithoutRegistration                      0.029208\n",
       "lineItemVoids                                 0.027214\n",
       "pricePerScannedLineItem                       0.025388\n",
       "lineItemVoidsPerSecond                        0.021419\n",
       "valuePerSecond                                0.021160\n",
       "scansWithoutRegistrationPerEuro               0.021148\n",
       "scansWithoutRegistrationPerSecond             0.021070\n",
       "lineItemVoidsPerPosition                      0.018168\n",
       "lineItemVoidsPerEuro                          0.017354\n",
       "quantityModificationsPerEuro                  0.015977\n",
       "grandTotal                                    0.015799\n",
       "quantityModificationsPerSecond                0.015763\n",
       "quantityModifications                         0.014125\n",
       "secondsPerEuro                                0.014016"
      ]
     },
     "execution_count": 149,
     "metadata": {},
     "output_type": "execute_result"
    }
   ],
   "source": [
    "from sklearn.ensemble import ExtraTreesClassifier\n",
    "# load data\n",
    "\n",
    "y = data['fraud']\n",
    "x = data.drop('fraud',axis=1)\n",
    "\n",
    "# feature extraction\n",
    "model = ExtraTreesClassifier(criterion = 'entropy')\n",
    "model.fit(x, y)\n",
    "\n",
    "pd.DataFrame(model.feature_importances_, list(x), columns =['Importance']).sort_values(by='Importance', ascending = False)"
   ]
  },
  {
   "cell_type": "markdown",
   "metadata": {},
   "source": [
    "# SelectKBest"
   ]
  },
  {
   "cell_type": "code",
   "execution_count": 150,
   "metadata": {
    "scrolled": false
   },
   "outputs": [
    {
     "name": "stdout",
     "output_type": "stream",
     "text": [
      "Feature Count: 1:\n",
      "['trustLevel']\n",
      "\n",
      "Feature Count: 2:\n",
      "['trustLevel' 'scannedLineItems']\n",
      "\n",
      "Feature Count: 3:\n",
      "['trustLevel' 'totalScanTimeInSeconds' 'scannedLineItems']\n",
      "\n",
      "Feature Count: 4:\n",
      "['trustLevel' 'totalScanTimeInSeconds' 'totalScanTimeInMinutes'\n",
      " 'scannedLineItems']\n",
      "\n",
      "Feature Count: 5:\n",
      "['trustLevel' 'totalScanTimeInSeconds' 'totalScanTimeInMinutes'\n",
      " 'scannedLineItems' 'pricePerScannedLineItem']\n",
      "\n",
      "Feature Count: 6:\n",
      "['trustLevel' 'totalScanTimeInSeconds' 'totalScanTimeInMinutes'\n",
      " 'scannedLineItems' 'pricePerScannedLineItem'\n",
      " 'quantityModificationsPerScannedLineItem']\n",
      "\n",
      "Feature Count: 7:\n",
      "['trustLevel' 'totalScanTimeInSeconds' 'totalScanTimeInMinutes'\n",
      " 'scannedLineItems' 'pricePerScannedLineItem'\n",
      " 'scansWithoutRegistrationPerScannedLineItem'\n",
      " 'quantityModificationsPerScannedLineItem']\n",
      "\n",
      "Feature Count: 8:\n",
      "['trustLevel' 'totalScanTimeInSeconds' 'lineItemVoidsPerPosition'\n",
      " 'totalScanTimeInMinutes' 'scannedLineItems' 'pricePerScannedLineItem'\n",
      " 'scansWithoutRegistrationPerScannedLineItem'\n",
      " 'quantityModificationsPerScannedLineItem']\n",
      "\n",
      "Feature Count: 9:\n",
      "['trustLevel' 'totalScanTimeInSeconds' 'scansWithoutRegistration'\n",
      " 'lineItemVoidsPerPosition' 'totalScanTimeInMinutes' 'scannedLineItems'\n",
      " 'pricePerScannedLineItem' 'scansWithoutRegistrationPerScannedLineItem'\n",
      " 'quantityModificationsPerScannedLineItem']\n",
      "\n",
      "Feature Count: 10:\n",
      "['trustLevel' 'totalScanTimeInSeconds' 'lineItemVoids'\n",
      " 'scansWithoutRegistration' 'lineItemVoidsPerPosition'\n",
      " 'totalScanTimeInMinutes' 'scannedLineItems' 'pricePerScannedLineItem'\n",
      " 'scansWithoutRegistrationPerScannedLineItem'\n",
      " 'quantityModificationsPerScannedLineItem']\n",
      "\n",
      "Feature Count: 11:\n",
      "['trustLevel' 'totalScanTimeInSeconds' 'lineItemVoids'\n",
      " 'scansWithoutRegistration' 'valuePerSecond' 'lineItemVoidsPerPosition'\n",
      " 'totalScanTimeInMinutes' 'scannedLineItems' 'pricePerScannedLineItem'\n",
      " 'scansWithoutRegistrationPerScannedLineItem'\n",
      " 'quantityModificationsPerScannedLineItem']\n",
      "\n",
      "Feature Count: 12:\n",
      "['trustLevel' 'totalScanTimeInSeconds' 'lineItemVoids'\n",
      " 'scansWithoutRegistration' 'valuePerSecond' 'lineItemVoidsPerPosition'\n",
      " 'totalScanTimeInMinutes' 'scannedLineItems' 'pricePerScannedLineItem'\n",
      " 'scansWithoutRegistrationPerScannedLineItem'\n",
      " 'quantityModificationsPerScannedLineItem'\n",
      " 'quantityModificationsPerSecond']\n",
      "\n",
      "Feature Count: 13:\n",
      "['trustLevel' 'totalScanTimeInSeconds' 'lineItemVoids'\n",
      " 'scansWithoutRegistration' 'valuePerSecond' 'lineItemVoidsPerPosition'\n",
      " 'totalScanTimeInMinutes' 'scannedLineItems' 'pricePerScannedLineItem'\n",
      " 'scansWithoutRegistrationPerScannedLineItem'\n",
      " 'quantityModificationsPerScannedLineItem' 'lineItemVoidsPerSecond'\n",
      " 'quantityModificationsPerSecond']\n",
      "\n",
      "Feature Count: 14:\n",
      "['trustLevel' 'totalScanTimeInSeconds' 'lineItemVoids'\n",
      " 'scansWithoutRegistration' 'scannedLineItemsPerSecond' 'valuePerSecond'\n",
      " 'lineItemVoidsPerPosition' 'totalScanTimeInMinutes' 'scannedLineItems'\n",
      " 'pricePerScannedLineItem' 'scansWithoutRegistrationPerScannedLineItem'\n",
      " 'quantityModificationsPerScannedLineItem' 'lineItemVoidsPerSecond'\n",
      " 'quantityModificationsPerSecond']\n",
      "\n",
      "Feature Count: 15:\n",
      "['trustLevel' 'totalScanTimeInSeconds' 'lineItemVoids'\n",
      " 'scansWithoutRegistration' 'scannedLineItemsPerSecond' 'valuePerSecond'\n",
      " 'lineItemVoidsPerPosition' 'totalScanTimeInMinutes' 'scannedLineItems'\n",
      " 'pricePerScannedLineItem' 'scansWithoutRegistrationPerScannedLineItem'\n",
      " 'quantityModificationsPerScannedLineItem' 'lineItemVoidsPerSecond'\n",
      " 'scansWithoutRegistrationPerSecond' 'quantityModificationsPerSecond']\n",
      "\n",
      "Feature Count: 16:\n",
      "['trustLevel' 'totalScanTimeInSeconds' 'lineItemVoids'\n",
      " 'scansWithoutRegistration' 'scannedLineItemsPerSecond' 'valuePerSecond'\n",
      " 'lineItemVoidsPerPosition' 'totalScanTimeInMinutes' 'scannedLineItems'\n",
      " 'pricePerScannedLineItem' 'scansWithoutRegistrationPerScannedLineItem'\n",
      " 'quantityModificationsPerScannedLineItem' 'lineItemVoidsPerSecond'\n",
      " 'scansWithoutRegistrationPerSecond' 'quantityModificationsPerSecond'\n",
      " 'quantityModificationsPerEuro']\n",
      "\n",
      "Feature Count: 17:\n",
      "['trustLevel' 'totalScanTimeInSeconds' 'lineItemVoids'\n",
      " 'scansWithoutRegistration' 'scannedLineItemsPerSecond' 'valuePerSecond'\n",
      " 'lineItemVoidsPerPosition' 'totalScanTimeInMinutes' 'scannedLineItems'\n",
      " 'pricePerScannedLineItem' 'scansWithoutRegistrationPerScannedLineItem'\n",
      " 'quantityModificationsPerScannedLineItem' 'lineItemVoidsPerSecond'\n",
      " 'scansWithoutRegistrationPerSecond' 'quantityModificationsPerSecond'\n",
      " 'secondsPerEuro' 'quantityModificationsPerEuro']\n",
      "\n",
      "Feature Count: 18:\n",
      "['trustLevel' 'totalScanTimeInSeconds' 'lineItemVoids'\n",
      " 'scansWithoutRegistration' 'scannedLineItemsPerSecond' 'valuePerSecond'\n",
      " 'lineItemVoidsPerPosition' 'totalScanTimeInMinutes' 'scannedLineItems'\n",
      " 'pricePerScannedLineItem' 'scansWithoutRegistrationPerScannedLineItem'\n",
      " 'quantityModificationsPerScannedLineItem' 'lineItemVoidsPerSecond'\n",
      " 'scansWithoutRegistrationPerSecond' 'quantityModificationsPerSecond'\n",
      " 'secondsPerEuro' 'scansWithoutRegistrationPerEuro'\n",
      " 'quantityModificationsPerEuro']\n",
      "\n",
      "Feature Count: 19:\n",
      "['trustLevel' 'totalScanTimeInSeconds' 'lineItemVoids'\n",
      " 'scansWithoutRegistration' 'scannedLineItemsPerSecond' 'valuePerSecond'\n",
      " 'lineItemVoidsPerPosition' 'totalScanTimeInMinutes' 'scannedLineItems'\n",
      " 'pricePerScannedLineItem' 'scansWithoutRegistrationPerScannedLineItem'\n",
      " 'quantityModificationsPerScannedLineItem' 'lineItemVoidsPerSecond'\n",
      " 'scansWithoutRegistrationPerSecond' 'quantityModificationsPerSecond'\n",
      " 'secondsPerEuro' 'lineItemVoidsPerEuro' 'scansWithoutRegistrationPerEuro'\n",
      " 'quantityModificationsPerEuro']\n",
      "\n",
      "Feature Count: 20:\n",
      "['trustLevel' 'totalScanTimeInSeconds' 'grandTotal' 'lineItemVoids'\n",
      " 'scansWithoutRegistration' 'scannedLineItemsPerSecond' 'valuePerSecond'\n",
      " 'lineItemVoidsPerPosition' 'totalScanTimeInMinutes' 'scannedLineItems'\n",
      " 'pricePerScannedLineItem' 'scansWithoutRegistrationPerScannedLineItem'\n",
      " 'quantityModificationsPerScannedLineItem' 'lineItemVoidsPerSecond'\n",
      " 'scansWithoutRegistrationPerSecond' 'quantityModificationsPerSecond'\n",
      " 'secondsPerEuro' 'lineItemVoidsPerEuro' 'scansWithoutRegistrationPerEuro'\n",
      " 'quantityModificationsPerEuro']\n",
      "\n",
      "Feature Count: 21:\n",
      "['trustLevel' 'totalScanTimeInSeconds' 'grandTotal' 'lineItemVoids'\n",
      " 'scansWithoutRegistration' 'quantityModifications'\n",
      " 'scannedLineItemsPerSecond' 'valuePerSecond' 'lineItemVoidsPerPosition'\n",
      " 'totalScanTimeInMinutes' 'scannedLineItems' 'pricePerScannedLineItem'\n",
      " 'scansWithoutRegistrationPerScannedLineItem'\n",
      " 'quantityModificationsPerScannedLineItem' 'lineItemVoidsPerSecond'\n",
      " 'scansWithoutRegistrationPerSecond' 'quantityModificationsPerSecond'\n",
      " 'secondsPerEuro' 'lineItemVoidsPerEuro' 'scansWithoutRegistrationPerEuro'\n",
      " 'quantityModificationsPerEuro']\n",
      "\n"
     ]
    }
   ],
   "source": [
    "from sklearn.feature_selection import SelectKBest\n",
    "from sklearn.feature_selection import f_classif\n",
    "\n",
    "y = data['fraud']\n",
    "x = data.drop('fraud',axis=1)\n",
    "\n",
    "for feature_count in range(1, len(list(x)) + 1):\n",
    "    best_features = SelectKBest(f_classif, k=feature_count).fit(x,y)\n",
    "    print(\"Feature Count: \" + str(feature_count) + \":\")\n",
    "    print(x.columns[best_features.get_support()].values)\n",
    "    print()"
   ]
  },
  {
   "cell_type": "markdown",
   "metadata": {},
   "source": [
    "# Recursive Feature Elimination -> Model Specific"
   ]
  },
  {
   "cell_type": "code",
   "execution_count": 151,
   "metadata": {},
   "outputs": [],
   "source": [
    "from sklearn.model_selection import StratifiedKFold\n",
    "from sklearn.model_selection import LeaveOneOut\n",
    "\n",
    "skf = StratifiedKFold(n_splits=10)\n",
    "loo = LeaveOneOut()"
   ]
  },
  {
   "cell_type": "code",
   "execution_count": 152,
   "metadata": {},
   "outputs": [],
   "source": [
    "from sklearn.model_selection import cross_val_score\n",
    "from sklearn.metrics import confusion_matrix\n",
    "from sklearn.metrics import make_scorer\n",
    "\n",
    "def my_custom_loss_func(y_true, y_pred):\n",
    "    cm = confusion_matrix(y_true,y_pred)\n",
    "    tn, fp, fn, tp = cm.ravel()\n",
    "    score = ((-25)*fp + (-5)*fn + 5*tp) / len(y_true)\n",
    "    return (score)\n",
    "\n",
    "my_custom_score = make_scorer(my_custom_loss_func, greater_is_better=True)"
   ]
  },
  {
   "cell_type": "code",
   "execution_count": 153,
   "metadata": {},
   "outputs": [
    {
     "name": "stdout",
     "output_type": "stream",
     "text": [
      "12 features:\n",
      "['trustLevel' 'totalScanTimeInSeconds' 'lineItemVoids'\n",
      " 'scansWithoutRegistration' 'scannedLineItemsPerSecond' 'valuePerSecond'\n",
      " 'lineItemVoidsPerPosition' 'totalScanTimeInMinutes' 'scannedLineItems'\n",
      " 'scansWithoutRegistrationPerScannedLineItem' 'secondsPerEuro'\n",
      " 'scansWithoutRegistrationPerEuro']\n"
     ]
    }
   ],
   "source": [
    "from sklearn.feature_selection import RFECV\n",
    "from sklearn.linear_model import LogisticRegression\n",
    "from sklearn.ensemble.gradient_boosting import GradientBoostingClassifier\n",
    "\n",
    "rfecv = RFECV(GradientBoostingClassifier(), min_features_to_select=1, cv=skf, scoring=my_custom_score)\n",
    "rfecv = rfecv.fit(x,y)\n",
    "print(str(rfecv.n_features_) + \" features:\")\n",
    "print(np.array(list(x))[np.array(rfecv.support_)])"
   ]
  },
  {
   "cell_type": "code",
   "execution_count": 143,
   "metadata": {},
   "outputs": [
    {
     "name": "stdout",
     "output_type": "stream",
     "text": [
      "True negative:  1775\n",
      "False positive:  0\n",
      "False negative:  0\n",
      "True positive:  104\n",
      "520 for 1879 instances in the test set\n",
      "0.2767429483767962 per instance in the test set\n"
     ]
    }
   ],
   "source": [
    "best_model = rfecv.estimator_\n",
    "\n",
    "from sklearn.metrics import confusion_matrix\n",
    "\n",
    "def get_monetary_value(cm):\n",
    "        tn, fp, fn, tp = cm.ravel()\n",
    "        print(\"True negative: \", tn)\n",
    "        print(\"False positive: \", fp)\n",
    "        print(\"False negative: \", fn)\n",
    "        print(\"True positive: \", tp)\n",
    "        score = (-25)*fp + (-5)*fn + 5*tp\n",
    "        print(str(score) + \" for \" + str(sum(sum(cm))) + \" instances in the test set\")\n",
    "        print(str(score/sum(sum(cm))) + \" per instance in the test set\")\n",
    "        return score\n",
    "    \n",
    "cm = confusion_matrix(y , best_model.predict(x.loc[:, rfecv.support_]))\n",
    "\n",
    "monetary_value = get_monetary_value(cm)"
   ]
  },
  {
   "cell_type": "markdown",
   "metadata": {},
   "source": [
    "# SelectFromModel -> Model Specific"
   ]
  },
  {
   "cell_type": "code",
   "execution_count": 136,
   "metadata": {},
   "outputs": [
    {
     "name": "stdout",
     "output_type": "stream",
     "text": [
      "5 features: \n",
      "['trustLevel' 'valuePerSecond' 'lineItemVoidsPerPosition'\n",
      " 'pricePerScannedLineItem' 'scansWithoutRegistrationPerScannedLineItem']\n"
     ]
    }
   ],
   "source": [
    "from sklearn.feature_selection import SelectFromModel\n",
    "from sklearn.ensemble import ExtraTreesClassifier\n",
    "\n",
    "model = SelectFromModel(LogisticRegression())\n",
    "model.fit(x,y)\n",
    "\n",
    "print(str(sum(np.array(model.get_support()))) + \" features: \")\n",
    "print(np.array(list(x))[np.array(model.get_support())])"
   ]
  },
  {
   "cell_type": "code",
   "execution_count": 138,
   "metadata": {},
   "outputs": [
    {
     "name": "stdout",
     "output_type": "stream",
     "text": [
      "True negative:  1762\n",
      "False positive:  13\n",
      "False negative:  86\n",
      "True positive:  18\n",
      "-665 for 1879 instances in the test set\n",
      "-0.3539116551357105 per instance in the test set\n"
     ]
    }
   ],
   "source": [
    "best_model = LogisticRegression().fit(x.loc[:, model.get_support()], y)\n",
    "\n",
    "from sklearn.metrics import confusion_matrix\n",
    "\n",
    "def get_monetary_value(cm):\n",
    "        tn, fp, fn, tp = cm.ravel()\n",
    "        print(\"True negative: \", tn)\n",
    "        print(\"False positive: \", fp)\n",
    "        print(\"False negative: \", fn)\n",
    "        print(\"True positive: \", tp)\n",
    "        score = (-25)*fp + (-5)*fn + 5*tp\n",
    "        print(str(score) + \" for \" + str(sum(sum(cm))) + \" instances in the test set\")\n",
    "        print(str(score/sum(sum(cm))) + \" per instance in the test set\")\n",
    "        return score\n",
    "    \n",
    "cm = confusion_matrix(y , best_model.predict(x.loc[:, model.get_support()]))\n",
    "\n",
    "monetary_value = get_monetary_value(cm)"
   ]
  }
 ],
 "metadata": {
  "kernelspec": {
   "display_name": "Python 3",
   "language": "python",
   "name": "python3"
  },
  "language_info": {
   "codemirror_mode": {
    "name": "ipython",
    "version": 3
   },
   "file_extension": ".py",
   "mimetype": "text/x-python",
   "name": "python",
   "nbconvert_exporter": "python",
   "pygments_lexer": "ipython3",
   "version": "3.7.3"
  }
 },
 "nbformat": 4,
 "nbformat_minor": 2
}
