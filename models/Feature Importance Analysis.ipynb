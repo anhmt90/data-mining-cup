{
 "cells": [
  {
   "cell_type": "code",
   "execution_count": 1,
   "metadata": {},
   "outputs": [],
   "source": [
    "import numpy as np\n",
    "import pandas as pd\n",
    "import matplotlib.pyplot as plt\n",
    "np.set_printoptions(suppress=True)"
   ]
  },
  {
   "cell_type": "code",
   "execution_count": 2,
   "metadata": {},
   "outputs": [],
   "source": [
    "data = pd.read_csv(\"train.csv\", sep=\"|\")"
   ]
  },
  {
   "cell_type": "code",
   "execution_count": 3,
   "metadata": {},
   "outputs": [],
   "source": [
    "data['totalScanTimeInMinutes'] = data['totalScanTimeInSeconds'] / 60.0\n",
    "data['scannedLineItems'] = data['scannedLineItemsPerSecond'] * data['totalScanTimeInSeconds']\n",
    "data['pricePerScannedLineItem'] = data['grandTotal'] / data['scannedLineItems']\n",
    "data['scansWithoutRegistrationPerScannedLineItem'] = data['scansWithoutRegistration'] / data['scannedLineItems']\n",
    "data['quantityModificationsPerScannedLineItem'] = data['quantityModifications'] / data['scannedLineItems']\n",
    "data['lineItemVoidsPerSecond'] = data['lineItemVoids'] / data['totalScanTimeInSeconds']\n",
    "data['scansWithoutRegistrationPerSecond'] = data['scansWithoutRegistration'] / data['totalScanTimeInSeconds']\n",
    "data['quantityModificationsPerSecond'] = data['quantityModifications'] / data['totalScanTimeInSeconds']\n",
    "data['secondsPerEuro'] = data['totalScanTimeInSeconds'] / data['grandTotal']\n",
    "data['lineItemVoidsPerEuro'] = data['lineItemVoids'] / data['grandTotal']\n",
    "data['scansWithoutRegistrationPerEuro'] = data['scansWithoutRegistration'] / data['grandTotal']\n",
    "data['quantityModificationsPerEuro'] = data['quantityModifications'] / data['grandTotal']"
   ]
  },
  {
   "cell_type": "markdown",
   "metadata": {},
   "source": [
    "# PCA Analysis"
   ]
  },
  {
   "cell_type": "code",
   "execution_count": 5,
   "metadata": {},
   "outputs": [
    {
     "name": "stdout",
     "output_type": "stream",
     "text": [
      "Principal Components:\n",
      "[[ 0.00001698  0.0049428  -0.00056844  0.00002907  0.00001725 -0.00002021\n",
      "  -0.00000058 -0.00000253  0.000002    0.00008238 -0.00003167 -0.00007928\n",
      "   0.00000057 -0.00000319 -0.00000021 -0.0000002  -0.00000012  0.99995003\n",
      "   0.00678576  0.0053964   0.00006977]\n",
      " [-0.00007792 -0.99984834 -0.00005382 -0.00011805 -0.00005007  0.00003224\n",
      "   0.00013816  0.0004883   0.00002957 -0.01666414 -0.00016748  0.00043093\n",
      "   0.00004846  0.00003547  0.0000553   0.00004999  0.00002562  0.00493638\n",
      "   0.00070076  0.00046868  0.00011373]\n",
      " [ 0.00290566  0.00002185  0.98648227  0.00075986 -0.00307059 -0.0005656\n",
      "  -0.00015973  0.00322995  0.00162239  0.00000036 -0.01467797  0.16291\n",
      "   0.00213059  0.00090875 -0.00002001 -0.00012738  0.00000699  0.00058634\n",
      "  -0.00182294 -0.00006399 -0.00753071]]\n",
      "Explained Variance:\n",
      "[0.97722355 0.0226862  0.00006889]\n"
     ]
    }
   ],
   "source": [
    "from sklearn.decomposition import PCA\n",
    "\n",
    "y = data['fraud']\n",
    "x = data.drop('fraud',axis=1)\n",
    "# feature extraction\n",
    "pca = PCA(n_components=3)\n",
    "\n",
    "fit = pca.fit(x)\n",
    "\n",
    "print(\"Principal Components:\")   \n",
    "print(fit.components_)\n",
    "\n",
    "print(\"Explained Variance:\") \n",
    "print(fit.explained_variance_ratio_)"
   ]
  },
  {
   "cell_type": "markdown",
   "metadata": {},
   "source": [
    "-> Consider PCA Regression!"
   ]
  },
  {
   "cell_type": "markdown",
   "metadata": {},
   "source": [
    "# Tree Classifier"
   ]
  },
  {
   "cell_type": "code",
   "execution_count": 6,
   "metadata": {},
   "outputs": [
    {
     "name": "stderr",
     "output_type": "stream",
     "text": [
      "C:\\Users\\ahuem\\Anaconda3\\lib\\site-packages\\sklearn\\ensemble\\forest.py:246: FutureWarning: The default value of n_estimators will change from 10 in version 0.20 to 100 in 0.22.\n",
      "  \"10 in version 0.20 to 100 in 0.22.\", FutureWarning)\n"
     ]
    },
    {
     "data": {
      "text/html": [
       "<div>\n",
       "<style scoped>\n",
       "    .dataframe tbody tr th:only-of-type {\n",
       "        vertical-align: middle;\n",
       "    }\n",
       "\n",
       "    .dataframe tbody tr th {\n",
       "        vertical-align: top;\n",
       "    }\n",
       "\n",
       "    .dataframe thead th {\n",
       "        text-align: right;\n",
       "    }\n",
       "</style>\n",
       "<table border=\"1\" class=\"dataframe\">\n",
       "  <thead>\n",
       "    <tr style=\"text-align: right;\">\n",
       "      <th></th>\n",
       "      <th>Importance</th>\n",
       "    </tr>\n",
       "  </thead>\n",
       "  <tbody>\n",
       "    <tr>\n",
       "      <th>trustLevel</th>\n",
       "      <td>0.263452</td>\n",
       "    </tr>\n",
       "    <tr>\n",
       "      <th>scannedLineItems</th>\n",
       "      <td>0.181066</td>\n",
       "    </tr>\n",
       "    <tr>\n",
       "      <th>totalScanTimeInSeconds</th>\n",
       "      <td>0.045061</td>\n",
       "    </tr>\n",
       "    <tr>\n",
       "      <th>totalScanTimeInMinutes</th>\n",
       "      <td>0.044047</td>\n",
       "    </tr>\n",
       "    <tr>\n",
       "      <th>scannedLineItemsPerSecond</th>\n",
       "      <td>0.041727</td>\n",
       "    </tr>\n",
       "    <tr>\n",
       "      <th>scansWithoutRegistration</th>\n",
       "      <td>0.036337</td>\n",
       "    </tr>\n",
       "    <tr>\n",
       "      <th>lineItemVoids</th>\n",
       "      <td>0.035511</td>\n",
       "    </tr>\n",
       "    <tr>\n",
       "      <th>lineItemVoidsPerPosition</th>\n",
       "      <td>0.034860</td>\n",
       "    </tr>\n",
       "    <tr>\n",
       "      <th>pricePerScannedLineItem</th>\n",
       "      <td>0.032142</td>\n",
       "    </tr>\n",
       "    <tr>\n",
       "      <th>quantityModificationsPerSecond</th>\n",
       "      <td>0.029153</td>\n",
       "    </tr>\n",
       "    <tr>\n",
       "      <th>scansWithoutRegistrationPerScannedLineItem</th>\n",
       "      <td>0.027846</td>\n",
       "    </tr>\n",
       "    <tr>\n",
       "      <th>scansWithoutRegistrationPerSecond</th>\n",
       "      <td>0.027213</td>\n",
       "    </tr>\n",
       "    <tr>\n",
       "      <th>quantityModificationsPerScannedLineItem</th>\n",
       "      <td>0.026802</td>\n",
       "    </tr>\n",
       "    <tr>\n",
       "      <th>grandTotal</th>\n",
       "      <td>0.024267</td>\n",
       "    </tr>\n",
       "    <tr>\n",
       "      <th>secondsPerEuro</th>\n",
       "      <td>0.023571</td>\n",
       "    </tr>\n",
       "    <tr>\n",
       "      <th>lineItemVoidsPerEuro</th>\n",
       "      <td>0.023279</td>\n",
       "    </tr>\n",
       "    <tr>\n",
       "      <th>quantityModifications</th>\n",
       "      <td>0.022221</td>\n",
       "    </tr>\n",
       "    <tr>\n",
       "      <th>scansWithoutRegistrationPerEuro</th>\n",
       "      <td>0.021374</td>\n",
       "    </tr>\n",
       "    <tr>\n",
       "      <th>quantityModificationsPerEuro</th>\n",
       "      <td>0.020881</td>\n",
       "    </tr>\n",
       "    <tr>\n",
       "      <th>lineItemVoidsPerSecond</th>\n",
       "      <td>0.019980</td>\n",
       "    </tr>\n",
       "    <tr>\n",
       "      <th>valuePerSecond</th>\n",
       "      <td>0.019208</td>\n",
       "    </tr>\n",
       "  </tbody>\n",
       "</table>\n",
       "</div>"
      ],
      "text/plain": [
       "                                            Importance\n",
       "trustLevel                                    0.263452\n",
       "scannedLineItems                              0.181066\n",
       "totalScanTimeInSeconds                        0.045061\n",
       "totalScanTimeInMinutes                        0.044047\n",
       "scannedLineItemsPerSecond                     0.041727\n",
       "scansWithoutRegistration                      0.036337\n",
       "lineItemVoids                                 0.035511\n",
       "lineItemVoidsPerPosition                      0.034860\n",
       "pricePerScannedLineItem                       0.032142\n",
       "quantityModificationsPerSecond                0.029153\n",
       "scansWithoutRegistrationPerScannedLineItem    0.027846\n",
       "scansWithoutRegistrationPerSecond             0.027213\n",
       "quantityModificationsPerScannedLineItem       0.026802\n",
       "grandTotal                                    0.024267\n",
       "secondsPerEuro                                0.023571\n",
       "lineItemVoidsPerEuro                          0.023279\n",
       "quantityModifications                         0.022221\n",
       "scansWithoutRegistrationPerEuro               0.021374\n",
       "quantityModificationsPerEuro                  0.020881\n",
       "lineItemVoidsPerSecond                        0.019980\n",
       "valuePerSecond                                0.019208"
      ]
     },
     "execution_count": 6,
     "metadata": {},
     "output_type": "execute_result"
    }
   ],
   "source": [
    "from sklearn.ensemble import ExtraTreesClassifier\n",
    "# load data\n",
    "\n",
    "y = data['fraud']\n",
    "x = data.drop('fraud',axis=1)\n",
    "\n",
    "# feature extraction\n",
    "model = ExtraTreesClassifier()\n",
    "model.fit(x, y)\n",
    "\n",
    "pd.DataFrame(model.feature_importances_, list(x), columns =['Importance']).sort_values(by='Importance', ascending = False)"
   ]
  }
 ],
 "metadata": {
  "kernelspec": {
   "display_name": "Python 3",
   "language": "python",
   "name": "python3"
  },
  "language_info": {
   "codemirror_mode": {
    "name": "ipython",
    "version": 3
   },
   "file_extension": ".py",
   "mimetype": "text/x-python",
   "name": "python",
   "nbconvert_exporter": "python",
   "pygments_lexer": "ipython3",
   "version": "3.7.3"
  }
 },
 "nbformat": 4,
 "nbformat_minor": 2
}
