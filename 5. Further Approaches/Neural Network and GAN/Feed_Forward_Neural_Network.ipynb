{
 "cells": [
  {
   "cell_type": "code",
   "execution_count": 1,
   "metadata": {},
   "outputs": [
    {
     "name": "stderr",
     "output_type": "stream",
     "text": [
      "c:\\users\\christos\\appdata\\local\\programs\\python\\python37\\lib\\site-packages\\numpy\\core\\__init__.py:29: UserWarning: loaded more than 1 DLL from .libs:\n",
      "c:\\users\\christos\\appdata\\local\\programs\\python\\python37\\lib\\site-packages\\numpy\\.libs\\libopenblas.IPBC74C7KURV7CB2PKT5Z5FNR3SIBV4J.gfortran-win_amd64.dll\n",
      "c:\\users\\christos\\appdata\\local\\programs\\python\\python37\\lib\\site-packages\\numpy\\.libs\\libopenblas.TXA6YQSD3GCQQC22GEQ54J2UDCXDXHWN.gfortran-win_amd64.dll\n",
      "  stacklevel=1)\n"
     ]
    },
    {
     "name": "stdout",
     "output_type": "stream",
     "text": [
      "3.7.3 (v3.7.3:ef4ec6ed12, Mar 25 2019, 22:22:05) [MSC v.1916 64 bit (AMD64)]\n"
     ]
    }
   ],
   "source": [
    "import pandas as pd\n",
    "import numpy as np\n",
    "from scipy import stats\n",
    "import sys\n",
    "print(sys.version)"
   ]
  },
  {
   "cell_type": "code",
   "execution_count": 2,
   "metadata": {},
   "outputs": [],
   "source": [
    "def my_custom_loss_func(y_true, y_pred):\n",
    "    cm = confusion_matrix(y_true,y_pred)\n",
    "    print(cm)\n",
    "    tn, fp, fn, tp = cm.ravel()\n",
    "    score = ((-25)*fp + (-5)*fn + 5*tp) / len(y_true)\n",
    "    return (score)"
   ]
  },
  {
   "cell_type": "code",
   "execution_count": 3,
   "metadata": {},
   "outputs": [],
   "source": [
    "from sklearn.preprocessing import MinMaxScaler\n",
    "from sklearn.preprocessing import StandardScaler\n",
    "from sklearn.preprocessing import FunctionTransformer\n",
    "\n",
    "def normalization(train):\n",
    "    feature_scaler = MinMaxScaler()\n",
    "    X_scaled = pd.DataFrame(feature_scaler.fit_transform(train.values), columns=train.columns, index=train.index)\n",
    "    return X_scaled"
   ]
  },
  {
   "cell_type": "code",
   "execution_count": 4,
   "metadata": {},
   "outputs": [
    {
     "name": "stderr",
     "output_type": "stream",
     "text": [
      "Using TensorFlow backend.\n"
     ]
    }
   ],
   "source": [
    "from imblearn.over_sampling import SMOTE\n",
    "\n",
    "def smoteOverSamling(train,nn,r):\n",
    "    sm = SMOTE(random_state=42, k_neighbors = nn, ratio = r)\n",
    "    return sm.fit_sample(train.drop('fraud',axis=1), train['fraud'])"
   ]
  },
  {
   "cell_type": "code",
   "execution_count": 5,
   "metadata": {},
   "outputs": [],
   "source": [
    "from keras.models import Sequential\n",
    "from keras.layers import Dense\n",
    "from sklearn.metrics import accuracy_score\n",
    "from sklearn.model_selection import train_test_split\n",
    "from sklearn.metrics import confusion_matrix\n",
    "\n",
    "\n",
    "\n",
    "train_pure=pd.read_csv('train.csv',sep=',',index_col=0)\n",
    "x_pure= train_pure.drop('fraud',axis=1)\n",
    "y_pure= train_pure['fraud']\n",
    "\n",
    "x_train, x_holdout, y_train, y_holdout = train_test_split(x_pure, y_pure, test_size=0.2, random_state=324)\n",
    "\n",
    "x_train= normalization(x_train)\n",
    "x_holdout= normalization(x_holdout)"
   ]
  },
  {
   "cell_type": "markdown",
   "metadata": {},
   "source": [
    "## Logistic regression "
   ]
  },
  {
   "cell_type": "code",
   "execution_count": 6,
   "metadata": {
    "scrolled": false
   },
   "outputs": [
    {
     "name": "stderr",
     "output_type": "stream",
     "text": [
      "WARNING: Logging before flag parsing goes to stderr.\n",
      "W0701 14:41:38.809055  9004 deprecation_wrapper.py:119] From c:\\users\\christos\\appdata\\local\\programs\\python\\python37\\lib\\site-packages\\keras\\backend\\tensorflow_backend.py:74: The name tf.get_default_graph is deprecated. Please use tf.compat.v1.get_default_graph instead.\n",
      "\n",
      "W0701 14:41:38.821008  9004 deprecation_wrapper.py:119] From c:\\users\\christos\\appdata\\local\\programs\\python\\python37\\lib\\site-packages\\keras\\backend\\tensorflow_backend.py:517: The name tf.placeholder is deprecated. Please use tf.compat.v1.placeholder instead.\n",
      "\n",
      "W0701 14:41:38.822969  9004 deprecation_wrapper.py:119] From c:\\users\\christos\\appdata\\local\\programs\\python\\python37\\lib\\site-packages\\keras\\backend\\tensorflow_backend.py:4138: The name tf.random_uniform is deprecated. Please use tf.random.uniform instead.\n",
      "\n",
      "W0701 14:41:38.832977  9004 deprecation_wrapper.py:119] From c:\\users\\christos\\appdata\\local\\programs\\python\\python37\\lib\\site-packages\\keras\\optimizers.py:790: The name tf.train.Optimizer is deprecated. Please use tf.compat.v1.train.Optimizer instead.\n",
      "\n",
      "W0701 14:41:38.844945  9004 deprecation_wrapper.py:119] From c:\\users\\christos\\appdata\\local\\programs\\python\\python37\\lib\\site-packages\\keras\\backend\\tensorflow_backend.py:3376: The name tf.log is deprecated. Please use tf.math.log instead.\n",
      "\n",
      "W0701 14:41:38.847903  9004 deprecation.py:323] From c:\\users\\christos\\appdata\\local\\programs\\python\\python37\\lib\\site-packages\\tensorflow\\python\\ops\\nn_impl.py:180: add_dispatch_support.<locals>.wrapper (from tensorflow.python.ops.array_ops) is deprecated and will be removed in a future version.\n",
      "Instructions for updating:\n",
      "Use tf.where in 2.0, which has the same broadcast rule as np.where\n",
      "c:\\users\\christos\\appdata\\local\\programs\\python\\python37\\lib\\site-packages\\ipykernel_launcher.py:5: UserWarning: The `nb_epoch` argument in `fit` has been renamed `epochs`.\n",
      "  \"\"\"\n",
      "W0701 14:41:38.966619  9004 deprecation_wrapper.py:119] From c:\\users\\christos\\appdata\\local\\programs\\python\\python37\\lib\\site-packages\\keras\\backend\\tensorflow_backend.py:986: The name tf.assign_add is deprecated. Please use tf.compat.v1.assign_add instead.\n",
      "\n"
     ]
    },
    {
     "name": "stdout",
     "output_type": "stream",
     "text": [
      "[[351   0]\n",
      " [ 25   0]]\n"
     ]
    }
   ],
   "source": [
    "attr_dim= x_holdout.shape[1]\n",
    "model = Sequential()\n",
    "model.add(Dense(1, activation='sigmoid', input_dim=attr_dim))\n",
    "model.compile(optimizer='rmsprop', loss='binary_crossentropy',metrics=['accuracy'])\n",
    "history=model.fit(x_train, y_train, nb_epoch=100, validation_data=(x_holdout, y_holdout),verbose=0)\n",
    "\n",
    "y_pred = model.predict(x_holdout).astype(int)\n",
    "validation_accuracy= my_custom_loss_func(y_holdout,y_pred)"
   ]
  },
  {
   "cell_type": "code",
   "execution_count": 7,
   "metadata": {
    "scrolled": true
   },
   "outputs": [
    {
     "data": {
      "text/plain": [
       "<Figure size 640x480 with 1 Axes>"
      ]
     },
     "metadata": {},
     "output_type": "display_data"
    },
    {
     "data": {
      "text/plain": [
       "<Figure size 640x480 with 1 Axes>"
      ]
     },
     "metadata": {},
     "output_type": "display_data"
    }
   ],
   "source": [
    "import matplotlib.pyplot as plt\n",
    "\n",
    "plt.plot(history.history['acc'])\n",
    "plt.plot(history.history['val_acc'])\n",
    "plt.title('Model accuracy')\n",
    "plt.ylabel('Accuracy')\n",
    "plt.xlabel('Epoch')\n",
    "plt.legend(['Train', 'Test'], loc='upper left')\n",
    "plt.show()\n",
    "\n",
    "# Plot training & validation loss values\n",
    "plt.plot(history.history['loss'])\n",
    "plt.plot(history.history['val_loss'])\n",
    "plt.title('Model loss')\n",
    "plt.ylabel('Loss')\n",
    "plt.xlabel('Epoch')\n",
    "plt.legend(['Train', 'Test'], loc='upper left')\n",
    "plt.show()"
   ]
  },
  {
   "cell_type": "markdown",
   "metadata": {},
   "source": [
    "## Logistic regression with hyper-parameter tuning"
   ]
  },
  {
   "cell_type": "code",
   "execution_count": 8,
   "metadata": {
    "scrolled": true
   },
   "outputs": [
    {
     "name": "stderr",
     "output_type": "stream",
     "text": [
      "c:\\users\\christos\\appdata\\local\\programs\\python\\python37\\lib\\site-packages\\ipykernel_launcher.py:14: UserWarning: Update your `Dense` call to the Keras 2 API: `Dense(1, activation=\"sigmoid\", input_dim=20, kernel_regularizer=<keras.reg...)`\n",
      "  \n"
     ]
    },
    {
     "name": "stdout",
     "output_type": "stream",
     "text": [
      "[[351   0]\n",
      " [ 25   0]]\n",
      "[[351   0]\n",
      " [ 25   0]]\n",
      "[[351   0]\n",
      " [ 25   0]]\n",
      "[[351   0]\n",
      " [ 25   0]]\n"
     ]
    }
   ],
   "source": [
    "from keras.optimizers import Adam\n",
    "from keras.regularizers import l1_l2\n",
    "cost=[]\n",
    "val_cost=[]\n",
    "num_iters = [50]#[50,100]\n",
    "best_val = -100\n",
    "regularization_strengths = [1e-1,1e1] # [1e-1,1e1,1e2, 1e3, 1e4, 1e5]\n",
    "learning_rates =  [1e-3, 1e-6] # [1e-2, 1e-3, 1e-4, 1e-5,1e-6]\n",
    "for l_rate in learning_rates:\n",
    "    for r in regularization_strengths:\n",
    "        for iterations in num_iters:\n",
    "            reg = l1_l2(l1=r, l2=r)\n",
    "            model = Sequential()\n",
    "            model.add(Dense(1, activation='sigmoid', W_regularizer=reg, input_dim=attr_dim))\n",
    "            opt= Adam(lr=l_rate, beta_1=0.9, beta_2=0.999, epsilon=None, decay=0.0, amsgrad=False)\n",
    "            model.compile(optimizer=opt, loss='binary_crossentropy',metrics=['accuracy'])\n",
    "            history=model.fit(x_train, y_train, epochs=iterations,  batch_size=256,validation_data=(x_holdout, y_holdout),verbose=0)\n",
    "           \n",
    "            y_pred = model.predict(x_holdout).astype(int)\n",
    "            validation_cost= my_custom_loss_func(y_holdout,y_pred)\n",
    "            val_cost.append(validation_cost)\n",
    "    \n",
    "            if validation_cost > best_val:\n",
    "                best_cost= cost\n",
    "                best_val_cost = val_cost\n",
    "                best_history=history\n",
    "                best_reg=r\n",
    "                best_iter=iterations\n",
    "                best_lr=l_rate\n",
    "                best_val = validation_cost \n",
    "                best_model = model"
   ]
  },
  {
   "cell_type": "code",
   "execution_count": 9,
   "metadata": {},
   "outputs": [
    {
     "data": {
      "text/plain": [
       "(0.1, 50, 0.001, -0.3324468085106383)"
      ]
     },
     "execution_count": 9,
     "metadata": {},
     "output_type": "execute_result"
    }
   ],
   "source": [
    "best_reg, best_iter, best_lr, best_val \n"
   ]
  },
  {
   "cell_type": "code",
   "execution_count": 10,
   "metadata": {},
   "outputs": [
    {
     "data": {
      "image/png": "[encoded data removed]",
      "text/plain": [
       "<Figure size 432x288 with 1 Axes>"
      ]
     },
     "metadata": {
      "needs_background": "light"
     },
     "output_type": "display_data"
    },
    {
     "data": {
      "image/png": "[encoded data removed]",
      "text/plain": [
       "<Figure size 432x288 with 1 Axes>"
      ]
     },
     "metadata": {
      "needs_background": "light"
     },
     "output_type": "display_data"
    },
    {
     "data": {
      "image/png": "[encoded data removed]",
      "text/plain": [
       "<Figure size 432x288 with 1 Axes>"
      ]
     },
     "metadata": {
      "needs_background": "light"
     },
     "output_type": "display_data"
    }
   ],
   "source": [
    "plt.plot(best_history.history['acc'])\n",
    "plt.plot(best_history.history['val_acc'])\n",
    "plt.title('Model accuracy')\n",
    "plt.ylabel('Accuracy')\n",
    "plt.xlabel('Epoch')\n",
    "plt.legend(['Train', 'Test'], loc='upper left')\n",
    "plt.show()\n",
    "\n",
    "# Plot training & validation loss values\n",
    "plt.plot(best_history.history['loss'])\n",
    "plt.plot(best_history.history['val_loss'])\n",
    "plt.title('Model loss')\n",
    "plt.ylabel('Loss')\n",
    "plt.xlabel('Epoch')\n",
    "plt.legend(['Train', 'Test'], loc='upper left')\n",
    "plt.show()\n",
    "            \n",
    "            # Plot training & validation loss values\n",
    "plt.plot(cost)\n",
    "plt.plot(val_cost)\n",
    "plt.title('Model cost')\n",
    "plt.ylabel('Cost')\n",
    "plt.xlabel('Tuning')\n",
    "plt.legend(['Train', 'Test'], loc='upper left')\n",
    "plt.show()"
   ]
  },
  {
   "cell_type": "markdown",
   "metadata": {},
   "source": [
    "## Neural network with 1 hidden layer and tuning"
   ]
  },
  {
   "cell_type": "code",
   "execution_count": 11,
   "metadata": {},
   "outputs": [
    {
     "name": "stderr",
     "output_type": "stream",
     "text": [
      "c:\\users\\christos\\appdata\\local\\programs\\python\\python37\\lib\\site-packages\\ipykernel_launcher.py:22: UserWarning: Update your `Dense` call to the Keras 2 API: `Dense(2, input_dim=20, bias_regularizer=<keras.reg..., kernel_initializer=\"uniform\", kernel_regularizer=<keras.reg...)`\n",
      "W0701 14:41:45.415995  9004 deprecation.py:506] From c:\\users\\christos\\appdata\\local\\programs\\python\\python37\\lib\\site-packages\\keras\\backend\\tensorflow_backend.py:3445: calling dropout (from tensorflow.python.ops.nn_ops) with keep_prob is deprecated and will be removed in a future version.\n",
      "Instructions for updating:\n",
      "Please use `rate` instead of `keep_prob`. Rate should be set to `rate = 1 - keep_prob`.\n",
      "c:\\users\\christos\\appdata\\local\\programs\\python\\python37\\lib\\site-packages\\ipykernel_launcher.py:31: UserWarning: Update your `Dense` call to the Keras 2 API: `Dense(1, activation=\"sigmoid\", input_dim=(2,), bias_regularizer=<keras.reg..., kernel_regularizer=<keras.reg...)`\n"
     ]
    },
    {
     "name": "stdout",
     "output_type": "stream",
     "text": [
      "[[351   0]\n",
      " [ 25   0]]\n"
     ]
    },
    {
     "name": "stderr",
     "output_type": "stream",
     "text": [
      "c:\\users\\christos\\appdata\\local\\programs\\python\\python37\\lib\\site-packages\\ipykernel_launcher.py:22: UserWarning: Update your `Dense` call to the Keras 2 API: `Dense(2, input_dim=20, bias_regularizer=<keras.reg..., kernel_initializer=\"uniform\", kernel_regularizer=<keras.reg...)`\n",
      "c:\\users\\christos\\appdata\\local\\programs\\python\\python37\\lib\\site-packages\\ipykernel_launcher.py:31: UserWarning: Update your `Dense` call to the Keras 2 API: `Dense(1, activation=\"sigmoid\", input_dim=(2,), bias_regularizer=<keras.reg..., kernel_regularizer=<keras.reg...)`\n"
     ]
    },
    {
     "name": "stdout",
     "output_type": "stream",
     "text": [
      "[[351   0]\n",
      " [ 25   0]]\n"
     ]
    },
    {
     "name": "stderr",
     "output_type": "stream",
     "text": [
      "c:\\users\\christos\\appdata\\local\\programs\\python\\python37\\lib\\site-packages\\ipykernel_launcher.py:22: UserWarning: Update your `Dense` call to the Keras 2 API: `Dense(2, input_dim=20, bias_regularizer=<keras.reg..., kernel_initializer=\"uniform\", kernel_regularizer=<keras.reg...)`\n",
      "c:\\users\\christos\\appdata\\local\\programs\\python\\python37\\lib\\site-packages\\ipykernel_launcher.py:31: UserWarning: Update your `Dense` call to the Keras 2 API: `Dense(1, activation=\"sigmoid\", input_dim=(2,), bias_regularizer=<keras.reg..., kernel_regularizer=<keras.reg...)`\n"
     ]
    },
    {
     "name": "stdout",
     "output_type": "stream",
     "text": [
      "[[351   0]\n",
      " [ 25   0]]\n"
     ]
    },
    {
     "name": "stderr",
     "output_type": "stream",
     "text": [
      "c:\\users\\christos\\appdata\\local\\programs\\python\\python37\\lib\\site-packages\\ipykernel_launcher.py:22: UserWarning: Update your `Dense` call to the Keras 2 API: `Dense(2, input_dim=20, bias_regularizer=<keras.reg..., kernel_initializer=\"uniform\", kernel_regularizer=<keras.reg...)`\n",
      "c:\\users\\christos\\appdata\\local\\programs\\python\\python37\\lib\\site-packages\\ipykernel_launcher.py:31: UserWarning: Update your `Dense` call to the Keras 2 API: `Dense(1, activation=\"sigmoid\", input_dim=(2,), bias_regularizer=<keras.reg..., kernel_regularizer=<keras.reg...)`\n"
     ]
    },
    {
     "name": "stdout",
     "output_type": "stream",
     "text": [
      "[[351   0]\n",
      " [ 25   0]]\n"
     ]
    },
    {
     "name": "stderr",
     "output_type": "stream",
     "text": [
      "c:\\users\\christos\\appdata\\local\\programs\\python\\python37\\lib\\site-packages\\ipykernel_launcher.py:22: UserWarning: Update your `Dense` call to the Keras 2 API: `Dense(8, input_dim=20, bias_regularizer=<keras.reg..., kernel_initializer=\"uniform\", kernel_regularizer=<keras.reg...)`\n",
      "c:\\users\\christos\\appdata\\local\\programs\\python\\python37\\lib\\site-packages\\ipykernel_launcher.py:31: UserWarning: Update your `Dense` call to the Keras 2 API: `Dense(1, activation=\"sigmoid\", input_dim=(8,), bias_regularizer=<keras.reg..., kernel_regularizer=<keras.reg...)`\n"
     ]
    },
    {
     "name": "stdout",
     "output_type": "stream",
     "text": [
      "[[351   0]\n",
      " [ 25   0]]\n"
     ]
    },
    {
     "name": "stderr",
     "output_type": "stream",
     "text": [
      "c:\\users\\christos\\appdata\\local\\programs\\python\\python37\\lib\\site-packages\\ipykernel_launcher.py:22: UserWarning: Update your `Dense` call to the Keras 2 API: `Dense(8, input_dim=20, bias_regularizer=<keras.reg..., kernel_initializer=\"uniform\", kernel_regularizer=<keras.reg...)`\n",
      "c:\\users\\christos\\appdata\\local\\programs\\python\\python37\\lib\\site-packages\\ipykernel_launcher.py:31: UserWarning: Update your `Dense` call to the Keras 2 API: `Dense(1, activation=\"sigmoid\", input_dim=(8,), bias_regularizer=<keras.reg..., kernel_regularizer=<keras.reg...)`\n"
     ]
    },
    {
     "name": "stdout",
     "output_type": "stream",
     "text": [
      "[[351   0]\n",
      " [ 25   0]]\n"
     ]
    },
    {
     "name": "stderr",
     "output_type": "stream",
     "text": [
      "c:\\users\\christos\\appdata\\local\\programs\\python\\python37\\lib\\site-packages\\ipykernel_launcher.py:22: UserWarning: Update your `Dense` call to the Keras 2 API: `Dense(8, input_dim=20, bias_regularizer=<keras.reg..., kernel_initializer=\"uniform\", kernel_regularizer=<keras.reg...)`\n",
      "c:\\users\\christos\\appdata\\local\\programs\\python\\python37\\lib\\site-packages\\ipykernel_launcher.py:31: UserWarning: Update your `Dense` call to the Keras 2 API: `Dense(1, activation=\"sigmoid\", input_dim=(8,), bias_regularizer=<keras.reg..., kernel_regularizer=<keras.reg...)`\n"
     ]
    },
    {
     "name": "stdout",
     "output_type": "stream",
     "text": [
      "[[351   0]\n",
      " [ 25   0]]\n"
     ]
    },
    {
     "name": "stderr",
     "output_type": "stream",
     "text": [
      "c:\\users\\christos\\appdata\\local\\programs\\python\\python37\\lib\\site-packages\\ipykernel_launcher.py:22: UserWarning: Update your `Dense` call to the Keras 2 API: `Dense(8, input_dim=20, bias_regularizer=<keras.reg..., kernel_initializer=\"uniform\", kernel_regularizer=<keras.reg...)`\n",
      "c:\\users\\christos\\appdata\\local\\programs\\python\\python37\\lib\\site-packages\\ipykernel_launcher.py:31: UserWarning: Update your `Dense` call to the Keras 2 API: `Dense(1, activation=\"sigmoid\", input_dim=(8,), bias_regularizer=<keras.reg..., kernel_regularizer=<keras.reg...)`\n"
     ]
    },
    {
     "name": "stdout",
     "output_type": "stream",
     "text": [
      "[[351   0]\n",
      " [ 25   0]]\n"
     ]
    }
   ],
   "source": [
    "from keras.layers import Dense, Dropout,Activation,BatchNormalization\n",
    "from keras.optimizers import Adam\n",
    "from keras.regularizers import l1_l2\n",
    "cost=[]\n",
    "val_cost=[]\n",
    "num_iters = [50]#[500, 1000]\n",
    "best_val = -100\n",
    "regularization_strengths = [1e-1,1e1] #[1e-1,1e1,1e2, 1e3, 1e4, 1e5]\n",
    "learning_rates = [1e-3, 1e-6]#[1e-2, 1e-3, 1e-4, 1e-5,1e-6]\n",
    "hidden_layers= [2,8]#[2, 4, 8, 16, 32,64]\n",
    "dropout = [0.5] #[0.0,0.5]\n",
    "for hid in hidden_layers:\n",
    "    for dr in dropout:\n",
    "        for l_rate in learning_rates:\n",
    "            for r in regularization_strengths:\n",
    "                for iterations in num_iters:\n",
    "                    input_dim= x_train.shape[1]\n",
    "                    reg = l1_l2(l1=r, l2=r)\n",
    "                    model = Sequential()\n",
    "                    model.add(Dense(hid, input_dim=input_dim, init='uniform',\n",
    "                        W_regularizer=reg,\n",
    "                        bias_regularizer=reg\n",
    "                    ))\n",
    "                    \n",
    "                    model.add(BatchNormalization())\n",
    "                    model.add(Activation('relu'))\n",
    "                    model.add(Dropout(dr))\n",
    "                    \n",
    "                    model.add(Dense(1, activation='sigmoid', input_dim=(hid,),\n",
    "                       W_regularizer=reg,\n",
    "                        bias_regularizer=reg\n",
    "                    ))\n",
    "                    \n",
    "                    opt= Adam(lr=l_rate, beta_1=0.9, beta_2=0.999, epsilon=None, decay=0.0, amsgrad=False)\n",
    "                    \n",
    "                    model.compile(optimizer= opt, loss='binary_crossentropy',metrics=['accuracy'])\n",
    "                    history=model.fit(x_train, y_train, epochs=iterations,  batch_size=256,validation_data=(x_holdout, y_holdout),verbose=0)\n",
    "                   \n",
    "                    y_pred = model.predict(x_holdout).astype(int)\n",
    "                    validation_cost= my_custom_loss_func(y_holdout,y_pred)\n",
    "                    val_cost.append(validation_cost)\n",
    "\n",
    "            \n",
    "                    if validation_cost > best_val:\n",
    "                        best_cost= cost\n",
    "                        best_val_cost = val_cost\n",
    "                        best_history=history\n",
    "                        best_reg=r\n",
    "                        best_iter=iterations\n",
    "                        best_lr=l_rate\n",
    "                        best_val = validation_cost \n",
    "                        best_model = model\n",
    "                        best_hid=hid\n",
    "                        best_dr=dr\n",
    "\n"
   ]
  },
  {
   "cell_type": "code",
   "execution_count": 12,
   "metadata": {},
   "outputs": [
    {
     "data": {
      "text/plain": [
       "(0.1, 50, 0.001, -0.3324468085106383, 2, 0.5)"
      ]
     },
     "execution_count": 12,
     "metadata": {},
     "output_type": "execute_result"
    }
   ],
   "source": [
    "best_reg, best_iter, best_lr, best_val,best_hid,best_dr"
   ]
  },
  {
   "cell_type": "code",
   "execution_count": 13,
   "metadata": {},
   "outputs": [
    {
     "data": {
      "image/png": "[encoded data removed]",
      "text/plain": [
       "<Figure size 432x288 with 1 Axes>"
      ]
     },
     "metadata": {
      "needs_background": "light"
     },
     "output_type": "display_data"
    },
    {
     "data": {
      "image/png": "[encoded data removed]",
      "text/plain": [
       "<Figure size 432x288 with 1 Axes>"
      ]
     },
     "metadata": {
      "needs_background": "light"
     },
     "output_type": "display_data"
    },
    {
     "data": {
      "image/png": "[encoded data removed]",
      "text/plain": [
       "<Figure size 432x288 with 1 Axes>"
      ]
     },
     "metadata": {
      "needs_background": "light"
     },
     "output_type": "display_data"
    }
   ],
   "source": [
    "plt.plot(best_history.history['acc'])\n",
    "plt.plot(best_history.history['val_acc'])\n",
    "plt.title('Model accuracy')\n",
    "plt.ylabel('Accuracy')\n",
    "plt.xlabel('Epoch')\n",
    "plt.legend(['Train', 'Test'], loc='upper left')\n",
    "plt.show()\n",
    "\n",
    "# Plot training & validation loss values\n",
    "plt.plot(best_history.history['loss'])\n",
    "plt.plot(best_history.history['val_loss'])\n",
    "plt.title('Model loss')\n",
    "plt.ylabel('Loss')\n",
    "plt.xlabel('Epoch')\n",
    "plt.legend(['Train', 'Test'], loc='upper left')\n",
    "plt.show()\n",
    "            \n",
    "            # Plot training & validation loss values\n",
    "plt.plot(cost)\n",
    "plt.plot(val_cost)\n",
    "plt.title('Model cost')\n",
    "plt.ylabel('Monetary value')\n",
    "plt.xlabel('Hyper-tuning parameters combination')\n",
    "plt.legend(['Train', 'Test'], loc='upper left')\n",
    "plt.show()"
   ]
  }
 ],
 "metadata": {
  "kernelspec": {
   "display_name": "Python 3",
   "language": "python",
   "name": "python3"
  },
  "language_info": {
   "codemirror_mode": {
    "name": "ipython",
    "version": 3
   },
   "file_extension": ".py",
   "mimetype": "text/x-python",
   "name": "python",
   "nbconvert_exporter": "python",
   "pygments_lexer": "ipython3",
   "version": "3.7.3"
  }
 },
 "nbformat": 4,
 "nbformat_minor": 2
}
