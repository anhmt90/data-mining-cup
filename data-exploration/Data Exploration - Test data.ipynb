{
 "cells": [
  {
   "cell_type": "code",
   "execution_count": 2,
   "metadata": {},
   "outputs": [],
   "source": [
    "import numpy as np\n",
    "import pandas as pd\n",
    "import matplotlib.pyplot as plt\n",
    "import seaborn as sns\n",
    "plt.rcParams['figure.figsize'] = (10,10)"
   ]
  },
  {
   "cell_type": "code",
   "execution_count": 3,
   "metadata": {},
   "outputs": [],
   "source": [
    "data = pd.read_csv(\"test.csv\", sep=\"|\")"
   ]
  },
  {
   "cell_type": "code",
   "execution_count": 3,
   "metadata": {},
   "outputs": [
    {
     "data": {
      "text/plain": [
       "(498121, 9)"
      ]
     },
     "execution_count": 3,
     "metadata": {},
     "output_type": "execute_result"
    }
   ],
   "source": [
    "data.shape"
   ]
  },
  {
   "cell_type": "code",
   "execution_count": 4,
   "metadata": {},
   "outputs": [
    {
     "data": {
      "text/plain": [
       "trustLevel                     int64\n",
       "totalScanTimeInSeconds         int64\n",
       "grandTotal                   float64\n",
       "lineItemVoids                  int64\n",
       "scansWithoutRegistration       int64\n",
       "quantityModifications          int64\n",
       "scannedLineItemsPerSecond    float64\n",
       "valuePerSecond               float64\n",
       "lineItemVoidsPerPosition     float64\n",
       "dtype: object"
      ]
     },
     "execution_count": 4,
     "metadata": {},
     "output_type": "execute_result"
    }
   ],
   "source": [
    "data.dtypes"
   ]
  },
  {
   "cell_type": "code",
   "execution_count": 4,
   "metadata": {},
   "outputs": [
    {
     "data": {
      "text/html": [
       "<div>\n",
       "<style scoped>\n",
       "    .dataframe tbody tr th:only-of-type {\n",
       "        vertical-align: middle;\n",
       "    }\n",
       "\n",
       "    .dataframe tbody tr th {\n",
       "        vertical-align: top;\n",
       "    }\n",
       "\n",
       "    .dataframe thead th {\n",
       "        text-align: right;\n",
       "    }\n",
       "</style>\n",
       "<table border=\"1\" class=\"dataframe\">\n",
       "  <thead>\n",
       "    <tr style=\"text-align: right;\">\n",
       "      <th></th>\n",
       "      <th>trustLevel</th>\n",
       "      <th>totalScanTimeInSeconds</th>\n",
       "      <th>grandTotal</th>\n",
       "      <th>lineItemVoids</th>\n",
       "      <th>scansWithoutRegistration</th>\n",
       "      <th>quantityModifications</th>\n",
       "      <th>scannedLineItemsPerSecond</th>\n",
       "      <th>valuePerSecond</th>\n",
       "      <th>lineItemVoidsPerPosition</th>\n",
       "    </tr>\n",
       "  </thead>\n",
       "  <tbody>\n",
       "    <tr>\n",
       "      <th>count</th>\n",
       "      <td>498121.000000</td>\n",
       "      <td>498121.000000</td>\n",
       "      <td>498121.000000</td>\n",
       "      <td>498121.000000</td>\n",
       "      <td>498121.000000</td>\n",
       "      <td>498121.000000</td>\n",
       "      <td>498121.000000</td>\n",
       "      <td>498121.000000</td>\n",
       "      <td>498121.000000</td>\n",
       "    </tr>\n",
       "    <tr>\n",
       "      <th>mean</th>\n",
       "      <td>3.503257</td>\n",
       "      <td>915.608772</td>\n",
       "      <td>49.988990</td>\n",
       "      <td>5.495926</td>\n",
       "      <td>5.001281</td>\n",
       "      <td>2.499015</td>\n",
       "      <td>0.068054</td>\n",
       "      <td>0.222182</td>\n",
       "      <td>0.735190</td>\n",
       "    </tr>\n",
       "    <tr>\n",
       "      <th>std</th>\n",
       "      <td>1.707662</td>\n",
       "      <td>528.772880</td>\n",
       "      <td>28.873426</td>\n",
       "      <td>3.447683</td>\n",
       "      <td>3.163795</td>\n",
       "      <td>1.708182</td>\n",
       "      <td>0.521092</td>\n",
       "      <td>1.717867</td>\n",
       "      <td>1.320235</td>\n",
       "    </tr>\n",
       "    <tr>\n",
       "      <th>min</th>\n",
       "      <td>1.000000</td>\n",
       "      <td>1.000000</td>\n",
       "      <td>0.000000</td>\n",
       "      <td>0.000000</td>\n",
       "      <td>0.000000</td>\n",
       "      <td>0.000000</td>\n",
       "      <td>0.000546</td>\n",
       "      <td>0.000000</td>\n",
       "      <td>0.000000</td>\n",
       "    </tr>\n",
       "    <tr>\n",
       "      <th>25%</th>\n",
       "      <td>2.000000</td>\n",
       "      <td>458.000000</td>\n",
       "      <td>24.930000</td>\n",
       "      <td>3.000000</td>\n",
       "      <td>2.000000</td>\n",
       "      <td>1.000000</td>\n",
       "      <td>0.008682</td>\n",
       "      <td>0.027348</td>\n",
       "      <td>0.160000</td>\n",
       "    </tr>\n",
       "    <tr>\n",
       "      <th>50%</th>\n",
       "      <td>4.000000</td>\n",
       "      <td>916.000000</td>\n",
       "      <td>50.030000</td>\n",
       "      <td>5.000000</td>\n",
       "      <td>5.000000</td>\n",
       "      <td>2.000000</td>\n",
       "      <td>0.016940</td>\n",
       "      <td>0.054550</td>\n",
       "      <td>0.352941</td>\n",
       "    </tr>\n",
       "    <tr>\n",
       "      <th>75%</th>\n",
       "      <td>5.000000</td>\n",
       "      <td>1374.000000</td>\n",
       "      <td>75.020000</td>\n",
       "      <td>8.000000</td>\n",
       "      <td>8.000000</td>\n",
       "      <td>4.000000</td>\n",
       "      <td>0.033929</td>\n",
       "      <td>0.109091</td>\n",
       "      <td>0.692308</td>\n",
       "    </tr>\n",
       "    <tr>\n",
       "      <th>max</th>\n",
       "      <td>6.000000</td>\n",
       "      <td>1831.000000</td>\n",
       "      <td>99.990000</td>\n",
       "      <td>11.000000</td>\n",
       "      <td>10.000000</td>\n",
       "      <td>5.000000</td>\n",
       "      <td>30.000000</td>\n",
       "      <td>99.710000</td>\n",
       "      <td>11.000000</td>\n",
       "    </tr>\n",
       "  </tbody>\n",
       "</table>\n",
       "</div>"
      ],
      "text/plain": [
       "          trustLevel  totalScanTimeInSeconds     grandTotal  lineItemVoids  \\\n",
       "count  498121.000000           498121.000000  498121.000000  498121.000000   \n",
       "mean        3.503257              915.608772      49.988990       5.495926   \n",
       "std         1.707662              528.772880      28.873426       3.447683   \n",
       "min         1.000000                1.000000       0.000000       0.000000   \n",
       "25%         2.000000              458.000000      24.930000       3.000000   \n",
       "50%         4.000000              916.000000      50.030000       5.000000   \n",
       "75%         5.000000             1374.000000      75.020000       8.000000   \n",
       "max         6.000000             1831.000000      99.990000      11.000000   \n",
       "\n",
       "       scansWithoutRegistration  quantityModifications  \\\n",
       "count             498121.000000          498121.000000   \n",
       "mean                   5.001281               2.499015   \n",
       "std                    3.163795               1.708182   \n",
       "min                    0.000000               0.000000   \n",
       "25%                    2.000000               1.000000   \n",
       "50%                    5.000000               2.000000   \n",
       "75%                    8.000000               4.000000   \n",
       "max                   10.000000               5.000000   \n",
       "\n",
       "       scannedLineItemsPerSecond  valuePerSecond  lineItemVoidsPerPosition  \n",
       "count              498121.000000   498121.000000             498121.000000  \n",
       "mean                    0.068054        0.222182                  0.735190  \n",
       "std                     0.521092        1.717867                  1.320235  \n",
       "min                     0.000546        0.000000                  0.000000  \n",
       "25%                     0.008682        0.027348                  0.160000  \n",
       "50%                     0.016940        0.054550                  0.352941  \n",
       "75%                     0.033929        0.109091                  0.692308  \n",
       "max                    30.000000       99.710000                 11.000000  "
      ]
     },
     "execution_count": 4,
     "metadata": {},
     "output_type": "execute_result"
    }
   ],
   "source": [
    "data.describe()"
   ]
  },
  {
   "cell_type": "code",
   "execution_count": 5,
   "metadata": {},
   "outputs": [
    {
     "data": {
      "text/plain": [
       "<matplotlib.axes._subplots.AxesSubplot at 0x218572d22b0>"
      ]
     },
     "execution_count": 5,
     "metadata": {},
     "output_type": "execute_result"
    },
    {
     "data": {
      "image/png": "[encoded data removed]",
      "text/plain": [
       "<Figure size 432x288 with 1 Axes>"
      ]
     },
     "metadata": {
      "needs_background": "light"
     },
     "output_type": "display_data"
    }
   ],
   "source": [
    "data.trustLevel.value_counts().plot.bar()"
   ]
  },
  {
   "cell_type": "code",
   "execution_count": 8,
   "metadata": {},
   "outputs": [
    {
     "data": {
      "text/plain": [
       "False"
      ]
     },
     "execution_count": 8,
     "metadata": {},
     "output_type": "execute_result"
    }
   ],
   "source": [
    "data.isnull().values.any()"
   ]
  },
  {
   "cell_type": "code",
   "execution_count": 6,
   "metadata": {},
   "outputs": [
    {
     "data": {
      "text/html": [
       "<div>\n",
       "<style scoped>\n",
       "    .dataframe tbody tr th:only-of-type {\n",
       "        vertical-align: middle;\n",
       "    }\n",
       "\n",
       "    .dataframe tbody tr th {\n",
       "        vertical-align: top;\n",
       "    }\n",
       "\n",
       "    .dataframe thead th {\n",
       "        text-align: right;\n",
       "    }\n",
       "</style>\n",
       "<table border=\"1\" class=\"dataframe\">\n",
       "  <thead>\n",
       "    <tr style=\"text-align: right;\">\n",
       "      <th></th>\n",
       "      <th>trustLevel</th>\n",
       "      <th>totalScanTimeInSeconds</th>\n",
       "      <th>grandTotal</th>\n",
       "      <th>lineItemVoids</th>\n",
       "      <th>scansWithoutRegistration</th>\n",
       "      <th>quantityModifications</th>\n",
       "      <th>scannedLineItemsPerSecond</th>\n",
       "      <th>valuePerSecond</th>\n",
       "      <th>lineItemVoidsPerPosition</th>\n",
       "    </tr>\n",
       "  </thead>\n",
       "  <tbody>\n",
       "    <tr>\n",
       "      <th>trustLevel</th>\n",
       "      <td>1.000000</td>\n",
       "      <td>0.000065</td>\n",
       "      <td>-0.000718</td>\n",
       "      <td>-0.000436</td>\n",
       "      <td>0.000518</td>\n",
       "      <td>-0.000806</td>\n",
       "      <td>-0.000567</td>\n",
       "      <td>0.000391</td>\n",
       "      <td>0.000469</td>\n",
       "    </tr>\n",
       "    <tr>\n",
       "      <th>totalScanTimeInSeconds</th>\n",
       "      <td>0.000065</td>\n",
       "      <td>1.000000</td>\n",
       "      <td>-0.001570</td>\n",
       "      <td>-0.000619</td>\n",
       "      <td>-0.000886</td>\n",
       "      <td>-0.000602</td>\n",
       "      <td>-0.169937</td>\n",
       "      <td>-0.168923</td>\n",
       "      <td>-0.000038</td>\n",
       "    </tr>\n",
       "    <tr>\n",
       "      <th>grandTotal</th>\n",
       "      <td>-0.000718</td>\n",
       "      <td>-0.001570</td>\n",
       "      <td>1.000000</td>\n",
       "      <td>0.000872</td>\n",
       "      <td>0.001876</td>\n",
       "      <td>0.000314</td>\n",
       "      <td>0.000578</td>\n",
       "      <td>0.075609</td>\n",
       "      <td>-0.000773</td>\n",
       "    </tr>\n",
       "    <tr>\n",
       "      <th>lineItemVoids</th>\n",
       "      <td>-0.000436</td>\n",
       "      <td>-0.000619</td>\n",
       "      <td>0.000872</td>\n",
       "      <td>1.000000</td>\n",
       "      <td>0.001962</td>\n",
       "      <td>-0.000974</td>\n",
       "      <td>-0.001085</td>\n",
       "      <td>-0.000131</td>\n",
       "      <td>0.348968</td>\n",
       "    </tr>\n",
       "    <tr>\n",
       "      <th>scansWithoutRegistration</th>\n",
       "      <td>0.000518</td>\n",
       "      <td>-0.000886</td>\n",
       "      <td>0.001876</td>\n",
       "      <td>0.001962</td>\n",
       "      <td>1.000000</td>\n",
       "      <td>0.000079</td>\n",
       "      <td>-0.002141</td>\n",
       "      <td>-0.003911</td>\n",
       "      <td>0.000252</td>\n",
       "    </tr>\n",
       "    <tr>\n",
       "      <th>quantityModifications</th>\n",
       "      <td>-0.000806</td>\n",
       "      <td>-0.000602</td>\n",
       "      <td>0.000314</td>\n",
       "      <td>-0.000974</td>\n",
       "      <td>0.000079</td>\n",
       "      <td>1.000000</td>\n",
       "      <td>-0.003039</td>\n",
       "      <td>-0.002115</td>\n",
       "      <td>0.002425</td>\n",
       "    </tr>\n",
       "    <tr>\n",
       "      <th>scannedLineItemsPerSecond</th>\n",
       "      <td>-0.000567</td>\n",
       "      <td>-0.169937</td>\n",
       "      <td>0.000578</td>\n",
       "      <td>-0.001085</td>\n",
       "      <td>-0.002141</td>\n",
       "      <td>-0.003039</td>\n",
       "      <td>1.000000</td>\n",
       "      <td>0.746334</td>\n",
       "      <td>-0.037303</td>\n",
       "    </tr>\n",
       "    <tr>\n",
       "      <th>valuePerSecond</th>\n",
       "      <td>0.000391</td>\n",
       "      <td>-0.168923</td>\n",
       "      <td>0.075609</td>\n",
       "      <td>-0.000131</td>\n",
       "      <td>-0.003911</td>\n",
       "      <td>-0.002115</td>\n",
       "      <td>0.746334</td>\n",
       "      <td>1.000000</td>\n",
       "      <td>0.002359</td>\n",
       "    </tr>\n",
       "    <tr>\n",
       "      <th>lineItemVoidsPerPosition</th>\n",
       "      <td>0.000469</td>\n",
       "      <td>-0.000038</td>\n",
       "      <td>-0.000773</td>\n",
       "      <td>0.348968</td>\n",
       "      <td>0.000252</td>\n",
       "      <td>0.002425</td>\n",
       "      <td>-0.037303</td>\n",
       "      <td>0.002359</td>\n",
       "      <td>1.000000</td>\n",
       "    </tr>\n",
       "  </tbody>\n",
       "</table>\n",
       "</div>"
      ],
      "text/plain": [
       "                           trustLevel  totalScanTimeInSeconds  grandTotal  \\\n",
       "trustLevel                   1.000000                0.000065   -0.000718   \n",
       "totalScanTimeInSeconds       0.000065                1.000000   -0.001570   \n",
       "grandTotal                  -0.000718               -0.001570    1.000000   \n",
       "lineItemVoids               -0.000436               -0.000619    0.000872   \n",
       "scansWithoutRegistration     0.000518               -0.000886    0.001876   \n",
       "quantityModifications       -0.000806               -0.000602    0.000314   \n",
       "scannedLineItemsPerSecond   -0.000567               -0.169937    0.000578   \n",
       "valuePerSecond               0.000391               -0.168923    0.075609   \n",
       "lineItemVoidsPerPosition     0.000469               -0.000038   -0.000773   \n",
       "\n",
       "                           lineItemVoids  scansWithoutRegistration  \\\n",
       "trustLevel                     -0.000436                  0.000518   \n",
       "totalScanTimeInSeconds         -0.000619                 -0.000886   \n",
       "grandTotal                      0.000872                  0.001876   \n",
       "lineItemVoids                   1.000000                  0.001962   \n",
       "scansWithoutRegistration        0.001962                  1.000000   \n",
       "quantityModifications          -0.000974                  0.000079   \n",
       "scannedLineItemsPerSecond      -0.001085                 -0.002141   \n",
       "valuePerSecond                 -0.000131                 -0.003911   \n",
       "lineItemVoidsPerPosition        0.348968                  0.000252   \n",
       "\n",
       "                           quantityModifications  scannedLineItemsPerSecond  \\\n",
       "trustLevel                             -0.000806                  -0.000567   \n",
       "totalScanTimeInSeconds                 -0.000602                  -0.169937   \n",
       "grandTotal                              0.000314                   0.000578   \n",
       "lineItemVoids                          -0.000974                  -0.001085   \n",
       "scansWithoutRegistration                0.000079                  -0.002141   \n",
       "quantityModifications                   1.000000                  -0.003039   \n",
       "scannedLineItemsPerSecond              -0.003039                   1.000000   \n",
       "valuePerSecond                         -0.002115                   0.746334   \n",
       "lineItemVoidsPerPosition                0.002425                  -0.037303   \n",
       "\n",
       "                           valuePerSecond  lineItemVoidsPerPosition  \n",
       "trustLevel                       0.000391                  0.000469  \n",
       "totalScanTimeInSeconds          -0.168923                 -0.000038  \n",
       "grandTotal                       0.075609                 -0.000773  \n",
       "lineItemVoids                   -0.000131                  0.348968  \n",
       "scansWithoutRegistration        -0.003911                  0.000252  \n",
       "quantityModifications           -0.002115                  0.002425  \n",
       "scannedLineItemsPerSecond        0.746334                 -0.037303  \n",
       "valuePerSecond                   1.000000                  0.002359  \n",
       "lineItemVoidsPerPosition         0.002359                  1.000000  "
      ]
     },
     "execution_count": 6,
     "metadata": {},
     "output_type": "execute_result"
    }
   ],
   "source": [
    "data.corr()"
   ]
  },
  {
   "cell_type": "code",
   "execution_count": 13,
   "metadata": {},
   "outputs": [
    {
     "data": {
      "text/plain": [
       "<matplotlib.axes._subplots.AxesSubplot at 0x2185a0d24e0>"
      ]
     },
     "execution_count": 13,
     "metadata": {},
     "output_type": "execute_result"
    },
    {
     "data": {
      "image/png": "[encoded data removed]",
      "text/plain": [
       "<Figure size 432x288 with 1 Axes>"
      ]
     },
     "metadata": {
      "needs_background": "light"
     },
     "output_type": "display_data"
    }
   ],
   "source": [
    "data['totalScanTimeInSeconds'].hist()"
   ]
  },
  {
   "cell_type": "code",
   "execution_count": 14,
   "metadata": {},
   "outputs": [
    {
     "data": {
      "text/plain": [
       "<matplotlib.axes._subplots.AxesSubplot at 0x21859e054a8>"
      ]
     },
     "execution_count": 14,
     "metadata": {},
     "output_type": "execute_result"
    },
    {
     "data": {
      "image/png": "[encoded data removed]",
      "text/plain": [
       "<Figure size 432x288 with 1 Axes>"
      ]
     },
     "metadata": {
      "needs_background": "light"
     },
     "output_type": "display_data"
    }
   ],
   "source": [
    "data['grandTotal'].hist()"
   ]
  },
  {
   "cell_type": "code",
   "execution_count": 15,
   "metadata": {},
   "outputs": [
    {
     "data": {
      "text/plain": [
       "<matplotlib.axes._subplots.AxesSubplot at 0x2185a961cf8>"
      ]
     },
     "execution_count": 15,
     "metadata": {},
     "output_type": "execute_result"
    },
    {
     "data": {
      "image/png": "[encoded data removed]",
      "text/plain": [
       "<Figure size 432x288 with 1 Axes>"
      ]
     },
     "metadata": {
      "needs_background": "light"
     },
     "output_type": "display_data"
    }
   ],
   "source": [
    "data['lineItemVoids'].hist()"
   ]
  },
  {
   "cell_type": "code",
   "execution_count": 16,
   "metadata": {},
   "outputs": [
    {
     "data": {
      "text/plain": [
       "<matplotlib.axes._subplots.AxesSubplot at 0x2185a1b45f8>"
      ]
     },
     "execution_count": 16,
     "metadata": {},
     "output_type": "execute_result"
    },
    {
     "data": {
      "image/png": "[encoded data removed]",
      "text/plain": [
       "<Figure size 432x288 with 1 Axes>"
      ]
     },
     "metadata": {
      "needs_background": "light"
     },
     "output_type": "display_data"
    }
   ],
   "source": [
    "data['scansWithoutRegistration'].hist()"
   ]
  },
  {
   "cell_type": "code",
   "execution_count": 17,
   "metadata": {},
   "outputs": [
    {
     "data": {
      "text/plain": [
       "<matplotlib.axes._subplots.AxesSubplot at 0x2185a22a358>"
      ]
     },
     "execution_count": 17,
     "metadata": {},
     "output_type": "execute_result"
    },
    {
     "data": {
      "image/png": "[encoded data removed]",
      "text/plain": [
       "<Figure size 432x288 with 1 Axes>"
      ]
     },
     "metadata": {
      "needs_background": "light"
     },
     "output_type": "display_data"
    }
   ],
   "source": [
    "data['quantityModifications'].hist()"
   ]
  },
  {
   "cell_type": "code",
   "execution_count": 18,
   "metadata": {},
   "outputs": [
    {
     "data": {
      "text/plain": [
       "<matplotlib.axes._subplots.AxesSubplot at 0x2185a2acc88>"
      ]
     },
     "execution_count": 18,
     "metadata": {},
     "output_type": "execute_result"
    },
    {
     "data": {
      "image/png": "[encoded data removed]",
      "text/plain": [
       "<Figure size 432x288 with 1 Axes>"
      ]
     },
     "metadata": {
      "needs_background": "light"
     },
     "output_type": "display_data"
    }
   ],
   "source": [
    "data['scannedLineItemsPerSecond'].hist()"
   ]
  },
  {
   "cell_type": "code",
   "execution_count": 19,
   "metadata": {},
   "outputs": [
    {
     "data": {
      "text/plain": [
       "<matplotlib.axes._subplots.AxesSubplot at 0x2185a317ef0>"
      ]
     },
     "execution_count": 19,
     "metadata": {},
     "output_type": "execute_result"
    },
    {
     "data": {
      "image/png": "[encoded data removed]",
      "text/plain": [
       "<Figure size 432x288 with 1 Axes>"
      ]
     },
     "metadata": {
      "needs_background": "light"
     },
     "output_type": "display_data"
    }
   ],
   "source": [
    "data['valuePerSecond'].hist()"
   ]
  },
  {
   "cell_type": "code",
   "execution_count": 21,
   "metadata": {
    "scrolled": true
   },
   "outputs": [
    {
     "data": {
      "text/plain": [
       "<matplotlib.axes._subplots.AxesSubplot at 0x2185a3f4f60>"
      ]
     },
     "execution_count": 21,
     "metadata": {},
     "output_type": "execute_result"
    },
    {
     "data": {
      "image/png": "[encoded data removed]",
      "text/plain": [
       "<Figure size 432x288 with 1 Axes>"
      ]
     },
     "metadata": {
      "needs_background": "light"
     },
     "output_type": "display_data"
    }
   ],
   "source": [
    "data['lineItemVoidsPerPosition'].hist()"
   ]
  },
  {
   "cell_type": "code",
   "execution_count": 29,
   "metadata": {},
   "outputs": [
    {
     "data": {
      "text/plain": [
       "<matplotlib.axes._subplots.AxesSubplot at 0x218033d5358>"
      ]
     },
     "execution_count": 29,
     "metadata": {},
     "output_type": "execute_result"
    },
    {
     "data": {
      "image/png": "[encoded data removed]",
      "text/plain": [
       "<Figure size 432x288 with 1 Axes>"
      ]
     },
     "metadata": {
      "needs_background": "light"
     },
     "output_type": "display_data"
    }
   ],
   "source": [
    "plt.rcParams['agg.path.chunksize'] = 1000\n",
    "\n",
    "data.plot(x=\"trustLevel\", y=\"grandTotal\")"
   ]
  },
  {
   "cell_type": "code",
   "execution_count": 30,
   "metadata": {},
   "outputs": [
    {
     "data": {
      "text/plain": [
       "<matplotlib.axes._subplots.AxesSubplot at 0x218033c92e8>"
      ]
     },
     "execution_count": 30,
     "metadata": {},
     "output_type": "execute_result"
    },
    {
     "data": {
      "image/png": "[encoded data removed]",
      "text/plain": [
       "<Figure size 432x288 with 1 Axes>"
      ]
     },
     "metadata": {
      "needs_background": "light"
     },
     "output_type": "display_data"
    }
   ],
   "source": [
    "data.groupby(['trustLevel']).mean()['grandTotal'].plot.bar()"
   ]
  },
  {
   "cell_type": "code",
   "execution_count": 31,
   "metadata": {},
   "outputs": [
    {
     "data": {
      "text/plain": [
       "<matplotlib.axes._subplots.AxesSubplot at 0x218034170f0>"
      ]
     },
     "execution_count": 31,
     "metadata": {},
     "output_type": "execute_result"
    },
    {
     "data": {
      "image/png": "[encoded data removed]",
      "text/plain": [
       "<Figure size 432x288 with 1 Axes>"
      ]
     },
     "metadata": {
      "needs_background": "light"
     },
     "output_type": "display_data"
    }
   ],
   "source": [
    "data.groupby(['trustLevel']).mean()['totalScanTimeInSeconds'].plot.bar()"
   ]
  },
  {
   "cell_type": "code",
   "execution_count": 32,
   "metadata": {},
   "outputs": [
    {
     "data": {
      "text/plain": [
       "<matplotlib.axes._subplots.AxesSubplot at 0x218034632e8>"
      ]
     },
     "execution_count": 32,
     "metadata": {},
     "output_type": "execute_result"
    },
    {
     "data": {
      "image/png": "[encoded data removed]",
      "text/plain": [
       "<Figure size 432x288 with 1 Axes>"
      ]
     },
     "metadata": {
      "needs_background": "light"
     },
     "output_type": "display_data"
    }
   ],
   "source": [
    "data.groupby(['trustLevel']).mean()['lineItemVoids'].plot.bar()"
   ]
  },
  {
   "cell_type": "code",
   "execution_count": 33,
   "metadata": {},
   "outputs": [
    {
     "data": {
      "text/plain": [
       "<matplotlib.axes._subplots.AxesSubplot at 0x218034e1f28>"
      ]
     },
     "execution_count": 33,
     "metadata": {},
     "output_type": "execute_result"
    },
    {
     "data": {
      "image/png": "[encoded data removed]",
      "text/plain": [
       "<Figure size 432x288 with 1 Axes>"
      ]
     },
     "metadata": {
      "needs_background": "light"
     },
     "output_type": "display_data"
    }
   ],
   "source": [
    "data.groupby(['trustLevel']).mean()['scansWithoutRegistration'].plot.bar()"
   ]
  },
  {
   "cell_type": "code",
   "execution_count": 34,
   "metadata": {},
   "outputs": [
    {
     "data": {
      "text/plain": [
       "<matplotlib.axes._subplots.AxesSubplot at 0x2185aa24710>"
      ]
     },
     "execution_count": 34,
     "metadata": {},
     "output_type": "execute_result"
    },
    {
     "data": {
      "image/png": "[encoded data removed]",
      "text/plain": [
       "<Figure size 432x288 with 1 Axes>"
      ]
     },
     "metadata": {
      "needs_background": "light"
     },
     "output_type": "display_data"
    }
   ],
   "source": [
    "data.groupby(['trustLevel']).mean()['quantityModifications'].plot.bar()"
   ]
  },
  {
   "cell_type": "code",
   "execution_count": 35,
   "metadata": {},
   "outputs": [
    {
     "data": {
      "text/plain": [
       "<matplotlib.axes._subplots.AxesSubplot at 0x21803507278>"
      ]
     },
     "execution_count": 35,
     "metadata": {},
     "output_type": "execute_result"
    },
    {
     "data": {
      "image/png": "[encoded data removed]",
      "text/plain": [
       "<Figure size 432x288 with 1 Axes>"
      ]
     },
     "metadata": {
      "needs_background": "light"
     },
     "output_type": "display_data"
    }
   ],
   "source": [
    "data.groupby(['trustLevel']).mean()['scannedLineItemsPerSecond'].plot.bar()"
   ]
  },
  {
   "cell_type": "code",
   "execution_count": 36,
   "metadata": {},
   "outputs": [
    {
     "data": {
      "text/plain": [
       "<matplotlib.axes._subplots.AxesSubplot at 0x218035bd438>"
      ]
     },
     "execution_count": 36,
     "metadata": {},
     "output_type": "execute_result"
    },
    {
     "data": {
      "image/png": "[encoded data removed]",
      "text/plain": [
       "<Figure size 432x288 with 1 Axes>"
      ]
     },
     "metadata": {
      "needs_background": "light"
     },
     "output_type": "display_data"
    }
   ],
   "source": [
    "data.groupby(['trustLevel']).mean()['valuePerSecond'].plot.bar()"
   ]
  },
  {
   "cell_type": "code",
   "execution_count": 37,
   "metadata": {},
   "outputs": [
    {
     "data": {
      "text/plain": [
       "<matplotlib.axes._subplots.AxesSubplot at 0x21803616c18>"
      ]
     },
     "execution_count": 37,
     "metadata": {},
     "output_type": "execute_result"
    },
    {
     "data": {
      "image/png": "[encoded data removed]",
      "text/plain": [
       "<Figure size 432x288 with 1 Axes>"
      ]
     },
     "metadata": {
      "needs_background": "light"
     },
     "output_type": "display_data"
    }
   ],
   "source": [
    "data.groupby(['trustLevel']).mean()['lineItemVoidsPerPosition'].plot.bar()"
   ]
  }
 ],
 "metadata": {
  "kernelspec": {
   "display_name": "Python 3",
   "language": "python",
   "name": "python3"
  },
  "language_info": {
   "codemirror_mode": {
    "name": "ipython",
    "version": 3
   },
   "file_extension": ".py",
   "mimetype": "text/x-python",
   "name": "python",
   "nbconvert_exporter": "python",
   "pygments_lexer": "ipython3",
   "version": "3.7.1"
  }
 },
 "nbformat": 4,
 "nbformat_minor": 2
}
